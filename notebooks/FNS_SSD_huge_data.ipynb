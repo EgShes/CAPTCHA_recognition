{
 "cells": [
  {
   "cell_type": "code",
   "execution_count": 1,
   "metadata": {},
   "outputs": [],
   "source": [
    "# based on this tutorial\n",
    "# https://github.com/sgrvinod/a-PyTorch-Tutorial-to-Object-Detection"
   ]
  },
  {
   "cell_type": "code",
   "execution_count": 2,
   "metadata": {},
   "outputs": [],
   "source": [
    "# import os\n",
    "# os.environ['CUDA_LAUNCH_BLOCKING'] = \"1\""
   ]
  },
  {
   "cell_type": "code",
   "execution_count": 3,
   "metadata": {},
   "outputs": [],
   "source": [
    "from apex import amp\n",
    "\n",
    "import pandas as pd\n",
    "import numpy as np\n",
    "\n",
    "import torch\n",
    "from torch.utils.data import Dataset, DataLoader\n",
    "\n",
    "from PIL import Image\n",
    "import matplotlib.pyplot as plt\n",
    "import matplotlib.patches as patches\n",
    "import json\n",
    "import re\n",
    "\n",
    "from os import listdir, mkdir\n",
    "from pathlib import Path\n",
    "from shutil import copyfile\n",
    "from tqdm import tqdm\n",
    "torch.cuda.set_device('cuda:1')\n",
    "\n",
    "from model import SSD300, MultiBoxLoss"
   ]
  },
  {
   "cell_type": "code",
   "execution_count": 189,
   "metadata": {},
   "outputs": [],
   "source": [
    "data_path = Path('/home/egor/job/CAPTCHA_recognition/data/captchas_fns')\n",
    "base_path = Path('/home/egor/job/CAPTCHA_recognition')"
   ]
  },
  {
   "cell_type": "markdown",
   "metadata": {},
   "source": [
    "# Data loading"
   ]
  },
  {
   "cell_type": "markdown",
   "metadata": {},
   "source": [
    "## More data\n",
    "\n",
    "all the available data was labeled"
   ]
  },
  {
   "cell_type": "code",
   "execution_count": 5,
   "metadata": {},
   "outputs": [],
   "source": [
    "df = pd.read_csv(data_path / 'captchas_labeled/labels.csv')"
   ]
  },
  {
   "cell_type": "code",
   "execution_count": 6,
   "metadata": {},
   "outputs": [
    {
     "data": {
      "text/html": [
       "<div>\n",
       "<style scoped>\n",
       "    .dataframe tbody tr th:only-of-type {\n",
       "        vertical-align: middle;\n",
       "    }\n",
       "\n",
       "    .dataframe tbody tr th {\n",
       "        vertical-align: top;\n",
       "    }\n",
       "\n",
       "    .dataframe thead th {\n",
       "        text-align: right;\n",
       "    }\n",
       "</style>\n",
       "<table border=\"1\" class=\"dataframe\">\n",
       "  <thead>\n",
       "    <tr style=\"text-align: right;\">\n",
       "      <th></th>\n",
       "      <th>#filename</th>\n",
       "      <th>file_size</th>\n",
       "      <th>file_attributes</th>\n",
       "      <th>region_count</th>\n",
       "      <th>region_id</th>\n",
       "      <th>region_shape_attributes</th>\n",
       "      <th>region_attributes</th>\n",
       "    </tr>\n",
       "  </thead>\n",
       "  <tbody>\n",
       "    <tr>\n",
       "      <th>0</th>\n",
       "      <td>0.png</td>\n",
       "      <td>1502</td>\n",
       "      <td>{}</td>\n",
       "      <td>6</td>\n",
       "      <td>0</td>\n",
       "      <td>{\"name\":\"rect\",\"x\":30,\"y\":26,\"width\":31,\"heigh...</td>\n",
       "      <td>{\"label\":\"1\"}</td>\n",
       "    </tr>\n",
       "    <tr>\n",
       "      <th>1</th>\n",
       "      <td>0.png</td>\n",
       "      <td>1502</td>\n",
       "      <td>{}</td>\n",
       "      <td>6</td>\n",
       "      <td>1</td>\n",
       "      <td>{\"name\":\"rect\",\"x\":57,\"y\":29,\"width\":24,\"heigh...</td>\n",
       "      <td>{\"label\":\"4\"}</td>\n",
       "    </tr>\n",
       "    <tr>\n",
       "      <th>2</th>\n",
       "      <td>0.png</td>\n",
       "      <td>1502</td>\n",
       "      <td>{}</td>\n",
       "      <td>6</td>\n",
       "      <td>2</td>\n",
       "      <td>{\"name\":\"rect\",\"x\":78,\"y\":29,\"width\":25,\"heigh...</td>\n",
       "      <td>{\"label\":\"9\"}</td>\n",
       "    </tr>\n",
       "    <tr>\n",
       "      <th>3</th>\n",
       "      <td>0.png</td>\n",
       "      <td>1502</td>\n",
       "      <td>{}</td>\n",
       "      <td>6</td>\n",
       "      <td>3</td>\n",
       "      <td>{\"name\":\"rect\",\"x\":98,\"y\":25,\"width\":35,\"heigh...</td>\n",
       "      <td>{\"label\":\"9\"}</td>\n",
       "    </tr>\n",
       "    <tr>\n",
       "      <th>4</th>\n",
       "      <td>0.png</td>\n",
       "      <td>1502</td>\n",
       "      <td>{}</td>\n",
       "      <td>6</td>\n",
       "      <td>4</td>\n",
       "      <td>{\"name\":\"rect\",\"x\":127,\"y\":22,\"width\":33,\"heig...</td>\n",
       "      <td>{\"label\":\"5\"}</td>\n",
       "    </tr>\n",
       "  </tbody>\n",
       "</table>\n",
       "</div>"
      ],
      "text/plain": [
       "  #filename  file_size file_attributes  region_count  region_id  \\\n",
       "0     0.png       1502              {}             6          0   \n",
       "1     0.png       1502              {}             6          1   \n",
       "2     0.png       1502              {}             6          2   \n",
       "3     0.png       1502              {}             6          3   \n",
       "4     0.png       1502              {}             6          4   \n",
       "\n",
       "                             region_shape_attributes region_attributes  \n",
       "0  {\"name\":\"rect\",\"x\":30,\"y\":26,\"width\":31,\"heigh...     {\"label\":\"1\"}  \n",
       "1  {\"name\":\"rect\",\"x\":57,\"y\":29,\"width\":24,\"heigh...     {\"label\":\"4\"}  \n",
       "2  {\"name\":\"rect\",\"x\":78,\"y\":29,\"width\":25,\"heigh...     {\"label\":\"9\"}  \n",
       "3  {\"name\":\"rect\",\"x\":98,\"y\":25,\"width\":35,\"heigh...     {\"label\":\"9\"}  \n",
       "4  {\"name\":\"rect\",\"x\":127,\"y\":22,\"width\":33,\"heig...     {\"label\":\"5\"}  "
      ]
     },
     "execution_count": 6,
     "metadata": {},
     "output_type": "execute_result"
    }
   ],
   "source": [
    "df.head()"
   ]
  },
  {
   "cell_type": "code",
   "execution_count": 7,
   "metadata": {},
   "outputs": [
    {
     "data": {
      "text/html": [
       "<div>\n",
       "<style scoped>\n",
       "    .dataframe tbody tr th:only-of-type {\n",
       "        vertical-align: middle;\n",
       "    }\n",
       "\n",
       "    .dataframe tbody tr th {\n",
       "        vertical-align: top;\n",
       "    }\n",
       "\n",
       "    .dataframe thead th {\n",
       "        text-align: right;\n",
       "    }\n",
       "</style>\n",
       "<table border=\"1\" class=\"dataframe\">\n",
       "  <thead>\n",
       "    <tr style=\"text-align: right;\">\n",
       "      <th></th>\n",
       "      <th>img_name</th>\n",
       "      <th>region_id</th>\n",
       "      <th>x0</th>\n",
       "      <th>y0</th>\n",
       "      <th>x1</th>\n",
       "      <th>y1</th>\n",
       "      <th>w</th>\n",
       "      <th>h</th>\n",
       "      <th>label</th>\n",
       "    </tr>\n",
       "  </thead>\n",
       "  <tbody>\n",
       "    <tr>\n",
       "      <th>0</th>\n",
       "      <td>0.png</td>\n",
       "      <td>0</td>\n",
       "      <td>30</td>\n",
       "      <td>26</td>\n",
       "      <td>61</td>\n",
       "      <td>71</td>\n",
       "      <td>31</td>\n",
       "      <td>45</td>\n",
       "      <td>1</td>\n",
       "    </tr>\n",
       "    <tr>\n",
       "      <th>1</th>\n",
       "      <td>0.png</td>\n",
       "      <td>1</td>\n",
       "      <td>57</td>\n",
       "      <td>29</td>\n",
       "      <td>81</td>\n",
       "      <td>73</td>\n",
       "      <td>24</td>\n",
       "      <td>44</td>\n",
       "      <td>4</td>\n",
       "    </tr>\n",
       "  </tbody>\n",
       "</table>\n",
       "</div>"
      ],
      "text/plain": [
       "  img_name  region_id  x0  y0  x1  y1   w   h label\n",
       "0    0.png          0  30  26  61  71  31  45     1\n",
       "1    0.png          1  57  29  81  73  24  44     4"
      ]
     },
     "execution_count": 7,
     "metadata": {},
     "output_type": "execute_result"
    }
   ],
   "source": [
    "proc_df = pd.DataFrame()\n",
    "\n",
    "proc_df['cord_dict'] = df['region_shape_attributes'].apply(lambda x: json.loads(x))\n",
    "\n",
    "proc_df['img_name'] = df['#filename']\n",
    "proc_df['region_id'] = df['region_id']\n",
    "proc_df['x0'] = proc_df['cord_dict'].apply(lambda x: x['x'])\n",
    "proc_df['y0'] = proc_df['cord_dict'].apply(lambda x: x['y'])\n",
    "proc_df['x1'] = proc_df.apply(lambda row: row['x0'] + row['cord_dict']['width'], axis=1)\n",
    "proc_df['y1'] = proc_df.apply(lambda row: row['y0'] + row['cord_dict']['height'], axis=1)\n",
    "proc_df['w'] = proc_df['cord_dict'].apply(lambda x: x['width'])\n",
    "proc_df['h'] = proc_df['cord_dict'].apply(lambda x: x['height'])\n",
    "proc_df['label'] = df['region_attributes'].apply(lambda x: json.loads(x)['label'])\n",
    "\n",
    "proc_df = proc_df.drop(['cord_dict'], axis=1)\n",
    "\n",
    "proc_df.head(2)"
   ]
  },
  {
   "cell_type": "code",
   "execution_count": 8,
   "metadata": {},
   "outputs": [
    {
     "name": "stdout",
     "output_type": "stream",
     "text": [
      "Labeled by hands 193\n"
     ]
    }
   ],
   "source": [
    "print('Labeled by hands', proc_df['img_name'].nunique())"
   ]
  },
  {
   "cell_type": "markdown",
   "metadata": {},
   "source": [
    "Auto labeled data. Reviewed and corrected"
   ]
  },
  {
   "cell_type": "code",
   "execution_count": 9,
   "metadata": {},
   "outputs": [
    {
     "data": {
      "text/html": [
       "<div>\n",
       "<style scoped>\n",
       "    .dataframe tbody tr th:only-of-type {\n",
       "        vertical-align: middle;\n",
       "    }\n",
       "\n",
       "    .dataframe tbody tr th {\n",
       "        vertical-align: top;\n",
       "    }\n",
       "\n",
       "    .dataframe thead th {\n",
       "        text-align: right;\n",
       "    }\n",
       "</style>\n",
       "<table border=\"1\" class=\"dataframe\">\n",
       "  <thead>\n",
       "    <tr style=\"text-align: right;\">\n",
       "      <th></th>\n",
       "      <th>img_name</th>\n",
       "      <th>region_id</th>\n",
       "      <th>x0</th>\n",
       "      <th>y0</th>\n",
       "      <th>x1</th>\n",
       "      <th>y1</th>\n",
       "      <th>w</th>\n",
       "      <th>h</th>\n",
       "      <th>label</th>\n",
       "    </tr>\n",
       "  </thead>\n",
       "  <tbody>\n",
       "    <tr>\n",
       "      <th>0</th>\n",
       "      <td>5814.png</td>\n",
       "      <td>0</td>\n",
       "      <td>49</td>\n",
       "      <td>30</td>\n",
       "      <td>92</td>\n",
       "      <td>78</td>\n",
       "      <td>43</td>\n",
       "      <td>48</td>\n",
       "      <td>9</td>\n",
       "    </tr>\n",
       "    <tr>\n",
       "      <th>1</th>\n",
       "      <td>5814.png</td>\n",
       "      <td>1</td>\n",
       "      <td>128</td>\n",
       "      <td>27</td>\n",
       "      <td>155</td>\n",
       "      <td>77</td>\n",
       "      <td>27</td>\n",
       "      <td>50</td>\n",
       "      <td>5</td>\n",
       "    </tr>\n",
       "  </tbody>\n",
       "</table>\n",
       "</div>"
      ],
      "text/plain": [
       "   img_name  region_id   x0  y0   x1  y1   w   h  label\n",
       "0  5814.png          0   49  30   92  78  43  48      9\n",
       "1  5814.png          1  128  27  155  77  27  50      5"
      ]
     },
     "execution_count": 9,
     "metadata": {},
     "output_type": "execute_result"
    }
   ],
   "source": [
    "df2 = pd.read_csv(data_path/'captchas_labeled/auto_labeled1.csv')\n",
    "df2.head(2)"
   ]
  },
  {
   "cell_type": "code",
   "execution_count": 10,
   "metadata": {},
   "outputs": [
    {
     "name": "stdout",
     "output_type": "stream",
     "text": [
      "First auto labeled images 126\n"
     ]
    }
   ],
   "source": [
    "print('First auto labeled images', df2['img_name'].nunique())"
   ]
  },
  {
   "cell_type": "code",
   "execution_count": 11,
   "metadata": {},
   "outputs": [
    {
     "data": {
      "text/html": [
       "<div>\n",
       "<style scoped>\n",
       "    .dataframe tbody tr th:only-of-type {\n",
       "        vertical-align: middle;\n",
       "    }\n",
       "\n",
       "    .dataframe tbody tr th {\n",
       "        vertical-align: top;\n",
       "    }\n",
       "\n",
       "    .dataframe thead th {\n",
       "        text-align: right;\n",
       "    }\n",
       "</style>\n",
       "<table border=\"1\" class=\"dataframe\">\n",
       "  <thead>\n",
       "    <tr style=\"text-align: right;\">\n",
       "      <th></th>\n",
       "      <th>img_name</th>\n",
       "      <th>x0</th>\n",
       "      <th>y0</th>\n",
       "      <th>x1</th>\n",
       "      <th>y1</th>\n",
       "      <th>w</th>\n",
       "      <th>h</th>\n",
       "      <th>label</th>\n",
       "      <th>region_id</th>\n",
       "    </tr>\n",
       "  </thead>\n",
       "  <tbody>\n",
       "    <tr>\n",
       "      <th>0</th>\n",
       "      <td>1000.png</td>\n",
       "      <td>35</td>\n",
       "      <td>35</td>\n",
       "      <td>60</td>\n",
       "      <td>81</td>\n",
       "      <td>25</td>\n",
       "      <td>46</td>\n",
       "      <td>4</td>\n",
       "      <td>0</td>\n",
       "    </tr>\n",
       "    <tr>\n",
       "      <th>1</th>\n",
       "      <td>1000.png</td>\n",
       "      <td>52</td>\n",
       "      <td>35</td>\n",
       "      <td>76</td>\n",
       "      <td>78</td>\n",
       "      <td>24</td>\n",
       "      <td>43</td>\n",
       "      <td>4</td>\n",
       "      <td>1</td>\n",
       "    </tr>\n",
       "  </tbody>\n",
       "</table>\n",
       "</div>"
      ],
      "text/plain": [
       "   img_name  x0  y0  x1  y1   w   h  label  region_id\n",
       "0  1000.png  35  35  60  81  25  46      4          0\n",
       "1  1000.png  52  35  76  78  24  43      4          1"
      ]
     },
     "execution_count": 11,
     "metadata": {},
     "output_type": "execute_result"
    }
   ],
   "source": [
    "df3 = pd.read_csv(data_path/'captchas_labeled/auto_labeled2.csv')\n",
    "df3.head(2)"
   ]
  },
  {
   "cell_type": "code",
   "execution_count": 12,
   "metadata": {},
   "outputs": [
    {
     "name": "stdout",
     "output_type": "stream",
     "text": [
      "Second auto labeled images 999\n"
     ]
    }
   ],
   "source": [
    "print('Second auto labeled images', df3['img_name'].nunique())"
   ]
  },
  {
   "cell_type": "code",
   "execution_count": 13,
   "metadata": {},
   "outputs": [
    {
     "data": {
      "text/html": [
       "<div>\n",
       "<style scoped>\n",
       "    .dataframe tbody tr th:only-of-type {\n",
       "        vertical-align: middle;\n",
       "    }\n",
       "\n",
       "    .dataframe tbody tr th {\n",
       "        vertical-align: top;\n",
       "    }\n",
       "\n",
       "    .dataframe thead th {\n",
       "        text-align: right;\n",
       "    }\n",
       "</style>\n",
       "<table border=\"1\" class=\"dataframe\">\n",
       "  <thead>\n",
       "    <tr style=\"text-align: right;\">\n",
       "      <th></th>\n",
       "      <th>img_name</th>\n",
       "      <th>region_id</th>\n",
       "      <th>x0</th>\n",
       "      <th>y0</th>\n",
       "      <th>x1</th>\n",
       "      <th>y1</th>\n",
       "      <th>w</th>\n",
       "      <th>h</th>\n",
       "      <th>label</th>\n",
       "    </tr>\n",
       "  </thead>\n",
       "  <tbody>\n",
       "    <tr>\n",
       "      <th>0</th>\n",
       "      <td>1039.png</td>\n",
       "      <td>0</td>\n",
       "      <td>28.041895</td>\n",
       "      <td>31.493517</td>\n",
       "      <td>52.331589</td>\n",
       "      <td>68.985756</td>\n",
       "      <td>24.289694</td>\n",
       "      <td>37.492241</td>\n",
       "      <td>1</td>\n",
       "    </tr>\n",
       "    <tr>\n",
       "      <th>1</th>\n",
       "      <td>1039.png</td>\n",
       "      <td>1</td>\n",
       "      <td>51.485596</td>\n",
       "      <td>25.786272</td>\n",
       "      <td>88.309082</td>\n",
       "      <td>71.704231</td>\n",
       "      <td>36.823486</td>\n",
       "      <td>45.917961</td>\n",
       "      <td>7</td>\n",
       "    </tr>\n",
       "  </tbody>\n",
       "</table>\n",
       "</div>"
      ],
      "text/plain": [
       "   img_name  region_id         x0         y0         x1         y1          w  \\\n",
       "0  1039.png          0  28.041895  31.493517  52.331589  68.985756  24.289694   \n",
       "1  1039.png          1  51.485596  25.786272  88.309082  71.704231  36.823486   \n",
       "\n",
       "           h  label  \n",
       "0  37.492241      1  \n",
       "1  45.917961      7  "
      ]
     },
     "execution_count": 13,
     "metadata": {},
     "output_type": "execute_result"
    }
   ],
   "source": [
    "df4 = pd.read_csv(data_path/'captchas_unlabeled/labels.csv')\n",
    "df4.head(2)"
   ]
  },
  {
   "cell_type": "code",
   "execution_count": 14,
   "metadata": {},
   "outputs": [
    {
     "name": "stdout",
     "output_type": "stream",
     "text": [
      "Third auto labeled images 8525\n"
     ]
    }
   ],
   "source": [
    "print('Third auto labeled images', df4['img_name'].nunique())"
   ]
  },
  {
   "cell_type": "code",
   "execution_count": 15,
   "metadata": {},
   "outputs": [
    {
     "data": {
      "text/html": [
       "<div>\n",
       "<style scoped>\n",
       "    .dataframe tbody tr th:only-of-type {\n",
       "        vertical-align: middle;\n",
       "    }\n",
       "\n",
       "    .dataframe tbody tr th {\n",
       "        vertical-align: top;\n",
       "    }\n",
       "\n",
       "    .dataframe thead th {\n",
       "        text-align: right;\n",
       "    }\n",
       "</style>\n",
       "<table border=\"1\" class=\"dataframe\">\n",
       "  <thead>\n",
       "    <tr style=\"text-align: right;\">\n",
       "      <th></th>\n",
       "      <th>img_name</th>\n",
       "      <th>region_id</th>\n",
       "      <th>x0</th>\n",
       "      <th>y0</th>\n",
       "      <th>x1</th>\n",
       "      <th>y1</th>\n",
       "      <th>w</th>\n",
       "      <th>h</th>\n",
       "      <th>label</th>\n",
       "    </tr>\n",
       "  </thead>\n",
       "  <tbody>\n",
       "    <tr>\n",
       "      <th>0</th>\n",
       "      <td>0.png</td>\n",
       "      <td>0</td>\n",
       "      <td>30.0</td>\n",
       "      <td>26.0</td>\n",
       "      <td>61.0</td>\n",
       "      <td>71.0</td>\n",
       "      <td>31.0</td>\n",
       "      <td>45.0</td>\n",
       "      <td>1</td>\n",
       "    </tr>\n",
       "    <tr>\n",
       "      <th>1</th>\n",
       "      <td>0.png</td>\n",
       "      <td>1</td>\n",
       "      <td>57.0</td>\n",
       "      <td>29.0</td>\n",
       "      <td>81.0</td>\n",
       "      <td>73.0</td>\n",
       "      <td>24.0</td>\n",
       "      <td>44.0</td>\n",
       "      <td>4</td>\n",
       "    </tr>\n",
       "  </tbody>\n",
       "</table>\n",
       "</div>"
      ],
      "text/plain": [
       "  img_name  region_id    x0    y0    x1    y1     w     h label\n",
       "0    0.png          0  30.0  26.0  61.0  71.0  31.0  45.0     1\n",
       "1    0.png          1  57.0  29.0  81.0  73.0  24.0  44.0     4"
      ]
     },
     "execution_count": 15,
     "metadata": {},
     "output_type": "execute_result"
    }
   ],
   "source": [
    "df = pd.concat([proc_df, df2, df3, df4], axis=0, sort=False)\n",
    "df.head(2)"
   ]
  },
  {
   "cell_type": "code",
   "execution_count": 16,
   "metadata": {},
   "outputs": [
    {
     "name": "stdout",
     "output_type": "stream",
     "text": [
      "All unique images 9843\n"
     ]
    }
   ],
   "source": [
    "print('All unique images', df['img_name'].nunique())"
   ]
  },
  {
   "cell_type": "code",
   "execution_count": 17,
   "metadata": {},
   "outputs": [],
   "source": [
    "df['label'] = df['label'].apply(lambda x: str(x))"
   ]
  },
  {
   "cell_type": "code",
   "execution_count": 18,
   "metadata": {},
   "outputs": [],
   "source": [
    "def number_dist(labels, title='Numbers distribution'):\n",
    "    \"\"\"\n",
    "    labels - pd.Series\n",
    "    \"\"\"\n",
    "    num_freq = labels.value_counts()\n",
    "    num_freq = [(k, v) for k, v in zip(num_freq.keys(), num_freq.values)]\n",
    "    num_freq = sorted(num_freq, key=lambda x: x[0])\n",
    "\n",
    "    plt.bar(range(len(num_freq)), [i[1] for i in num_freq], align='center')\n",
    "    plt.xticks(range(len(num_freq)), [i[0] for i in num_freq])\n",
    "    plt.xlabel('Numbers')\n",
    "    plt.ylabel('N')\n",
    "    plt.title(title)\n",
    "    plt.show()"
   ]
  },
  {
   "cell_type": "markdown",
   "metadata": {},
   "source": [
    "Class distribition is unitary"
   ]
  },
  {
   "cell_type": "code",
   "execution_count": 19,
   "metadata": {
    "scrolled": true
   },
   "outputs": [
    {
     "data": {
      "image/png": "[encoded data removed]",
      "text/plain": [
       "<Figure size 432x288 with 1 Axes>"
      ]
     },
     "metadata": {
      "needs_background": "light"
     },
     "output_type": "display_data"
    }
   ],
   "source": [
    "number_dist(df['label'])"
   ]
  },
  {
   "cell_type": "markdown",
   "metadata": {},
   "source": [
    "# Deep learning"
   ]
  },
  {
   "cell_type": "markdown",
   "metadata": {},
   "source": [
    "### Data handling"
   ]
  },
  {
   "cell_type": "code",
   "execution_count": 20,
   "metadata": {},
   "outputs": [],
   "source": [
    "from sklearn.model_selection import train_test_split\n",
    "from collections import defaultdict"
   ]
  },
  {
   "cell_type": "code",
   "execution_count": 21,
   "metadata": {
    "scrolled": false
   },
   "outputs": [],
   "source": [
    "d = defaultdict(lambda:[])\n",
    "\n",
    "for name in df['img_name'].unique():\n",
    "    d['img_name'].append(name)\n",
    "    for j, (_, row) in enumerate(df[df['img_name'] == name].iterrows()):\n",
    "        d[f'l{j}'].append(str(row['label']))\n",
    "        \n",
    "temp_df = pd.DataFrame.from_dict(d)"
   ]
  },
  {
   "cell_type": "code",
   "execution_count": 22,
   "metadata": {},
   "outputs": [
    {
     "data": {
      "text/html": [
       "<div>\n",
       "<style scoped>\n",
       "    .dataframe tbody tr th:only-of-type {\n",
       "        vertical-align: middle;\n",
       "    }\n",
       "\n",
       "    .dataframe tbody tr th {\n",
       "        vertical-align: top;\n",
       "    }\n",
       "\n",
       "    .dataframe thead th {\n",
       "        text-align: right;\n",
       "    }\n",
       "</style>\n",
       "<table border=\"1\" class=\"dataframe\">\n",
       "  <thead>\n",
       "    <tr style=\"text-align: right;\">\n",
       "      <th></th>\n",
       "      <th>img_name</th>\n",
       "      <th>l0</th>\n",
       "      <th>l1</th>\n",
       "      <th>l2</th>\n",
       "      <th>l3</th>\n",
       "      <th>l4</th>\n",
       "      <th>l5</th>\n",
       "    </tr>\n",
       "  </thead>\n",
       "  <tbody>\n",
       "    <tr>\n",
       "      <th>0</th>\n",
       "      <td>0.png</td>\n",
       "      <td>1</td>\n",
       "      <td>4</td>\n",
       "      <td>9</td>\n",
       "      <td>9</td>\n",
       "      <td>5</td>\n",
       "      <td>5</td>\n",
       "    </tr>\n",
       "    <tr>\n",
       "      <th>1</th>\n",
       "      <td>1.png</td>\n",
       "      <td>7</td>\n",
       "      <td>8</td>\n",
       "      <td>8</td>\n",
       "      <td>2</td>\n",
       "      <td>5</td>\n",
       "      <td>9</td>\n",
       "    </tr>\n",
       "    <tr>\n",
       "      <th>2</th>\n",
       "      <td>2.png</td>\n",
       "      <td>7</td>\n",
       "      <td>7</td>\n",
       "      <td>0</td>\n",
       "      <td>4</td>\n",
       "      <td>6</td>\n",
       "      <td>5</td>\n",
       "    </tr>\n",
       "    <tr>\n",
       "      <th>3</th>\n",
       "      <td>3.png</td>\n",
       "      <td>7</td>\n",
       "      <td>0</td>\n",
       "      <td>0</td>\n",
       "      <td>0</td>\n",
       "      <td>3</td>\n",
       "      <td>3</td>\n",
       "    </tr>\n",
       "    <tr>\n",
       "      <th>4</th>\n",
       "      <td>4.png</td>\n",
       "      <td>4</td>\n",
       "      <td>9</td>\n",
       "      <td>3</td>\n",
       "      <td>8</td>\n",
       "      <td>3</td>\n",
       "      <td>6</td>\n",
       "    </tr>\n",
       "  </tbody>\n",
       "</table>\n",
       "</div>"
      ],
      "text/plain": [
       "  img_name l0 l1 l2 l3 l4 l5\n",
       "0    0.png  1  4  9  9  5  5\n",
       "1    1.png  7  8  8  2  5  9\n",
       "2    2.png  7  7  0  4  6  5\n",
       "3    3.png  7  0  0  0  3  3\n",
       "4    4.png  4  9  3  8  3  6"
      ]
     },
     "execution_count": 22,
     "metadata": {},
     "output_type": "execute_result"
    }
   ],
   "source": [
    "temp_df.head()"
   ]
  },
  {
   "cell_type": "code",
   "execution_count": 23,
   "metadata": {
    "scrolled": true
   },
   "outputs": [
    {
     "data": {
      "image/png": "[encoded data removed]",
      "text/plain": [
       "<Figure size 432x288 with 1 Axes>"
      ]
     },
     "metadata": {
      "needs_background": "light"
     },
     "output_type": "display_data"
    }
   ],
   "source": [
    "number_dist(temp_df['l0'], 'First number dist')"
   ]
  },
  {
   "cell_type": "code",
   "execution_count": 24,
   "metadata": {},
   "outputs": [
    {
     "data": {
      "image/png": "[encoded data removed]",
      "text/plain": [
       "<Figure size 432x288 with 1 Axes>"
      ]
     },
     "metadata": {
      "needs_background": "light"
     },
     "output_type": "display_data"
    }
   ],
   "source": [
    "number_dist(temp_df['l1'], 'Second number dist')"
   ]
  },
  {
   "cell_type": "code",
   "execution_count": 25,
   "metadata": {},
   "outputs": [
    {
     "data": {
      "image/png": "[encoded data removed]",
      "text/plain": [
       "<Figure size 432x288 with 1 Axes>"
      ]
     },
     "metadata": {
      "needs_background": "light"
     },
     "output_type": "display_data"
    }
   ],
   "source": [
    "number_dist(temp_df['l2'], 'Third number dist')"
   ]
  },
  {
   "cell_type": "markdown",
   "metadata": {},
   "source": [
    "I can't split names according to more than two positions (just doesn't work). But as we saw they are almost the same and spliting only by two positions will work"
   ]
  },
  {
   "cell_type": "code",
   "execution_count": 26,
   "metadata": {},
   "outputs": [],
   "source": [
    "seed = 17\n",
    "temp_tr, temp_te = train_test_split(temp_df, test_size=0.05, stratify=temp_df[['l0', 'l1']], random_state=seed)\n",
    "temp_tr, temp_vl = train_test_split(temp_tr, test_size=0.15, stratify=temp_tr[['l0', 'l1']], random_state=seed)"
   ]
  },
  {
   "cell_type": "code",
   "execution_count": 27,
   "metadata": {},
   "outputs": [],
   "source": [
    "train_df = df[df['img_name'].isin(temp_tr['img_name'])]\n",
    "val_df = df[df['img_name'].isin(temp_vl['img_name'])]\n",
    "test_df = df[df['img_name'].isin(temp_te['img_name'])]"
   ]
  },
  {
   "cell_type": "markdown",
   "metadata": {},
   "source": [
    "This distribution is much more better than random splitting of images"
   ]
  },
  {
   "cell_type": "code",
   "execution_count": 28,
   "metadata": {},
   "outputs": [
    {
     "data": {
      "image/png": "[encoded data removed]",
      "text/plain": [
       "<Figure size 432x288 with 1 Axes>"
      ]
     },
     "metadata": {
      "needs_background": "light"
     },
     "output_type": "display_data"
    }
   ],
   "source": [
    "number_dist(train_df['label'], 'Train number distribution')"
   ]
  },
  {
   "cell_type": "code",
   "execution_count": 29,
   "metadata": {},
   "outputs": [
    {
     "data": {
      "image/png": "[encoded data removed]",
      "text/plain": [
       "<Figure size 432x288 with 1 Axes>"
      ]
     },
     "metadata": {
      "needs_background": "light"
     },
     "output_type": "display_data"
    }
   ],
   "source": [
    "number_dist(val_df['label'], 'Val number distribution')"
   ]
  },
  {
   "cell_type": "code",
   "execution_count": 30,
   "metadata": {},
   "outputs": [
    {
     "data": {
      "image/png": "[encoded data removed]",
      "text/plain": [
       "<Figure size 432x288 with 1 Axes>"
      ]
     },
     "metadata": {
      "needs_background": "light"
     },
     "output_type": "display_data"
    }
   ],
   "source": [
    "number_dist(test_df['label'], 'Test number distribution')"
   ]
  },
  {
   "cell_type": "code",
   "execution_count": 31,
   "metadata": {},
   "outputs": [],
   "source": [
    "if not (data_path/'train').is_dir():\n",
    "    (data_path/'train').mkdir()\n",
    "if not (data_path/'val').is_dir():\n",
    "    (data_path/'val').mkdir()\n",
    "if not (data_path/'test').is_dir():\n",
    "    (data_path/'test').mkdir()\n",
    "    \n",
    "train_images = train_df['img_name'].tolist()\n",
    "val_images = val_df['img_name'].tolist()\n",
    "test_images = test_df['img_name'].tolist()\n",
    "\n",
    "for name in train_images:\n",
    "    if (data_path/'captchas_labeled'/name).exists():\n",
    "        copyfile(str(data_path/'captchas_labeled'/name), str(data_path/'train'/name))\n",
    "    else:\n",
    "        copyfile(str(data_path/'captchas_unlabeled'/name), str(data_path/'train'/name))\n",
    "    \n",
    "for name in val_images:\n",
    "    if (data_path/'captchas_labeled'/name).exists():\n",
    "        copyfile(str(data_path/'captchas_labeled'/name), str(data_path/'val'/name))\n",
    "    else:\n",
    "        copyfile(str(data_path/'captchas_unlabeled'/name), str(data_path/'val'/name))\n",
    "    \n",
    "for name in test_images:\n",
    "    if (data_path/'captchas_labeled'/name).exists():\n",
    "        copyfile(str(data_path/'captchas_labeled'/name), str(data_path/'test'/name))\n",
    "    else:\n",
    "        copyfile(str(data_path/'captchas_unlabeled'/name), str(data_path/'test'/name)) "
   ]
  },
  {
   "cell_type": "markdown",
   "metadata": {},
   "source": [
    "### Data loader"
   ]
  },
  {
   "cell_type": "code",
   "execution_count": 32,
   "metadata": {},
   "outputs": [],
   "source": [
    "class Vocab():\n",
    "\n",
    "    def __init__(self, df):\n",
    "        \n",
    "        self.vocab = sorted(df['label'].unique())\n",
    "        self.tok2int = {tok: i + 1 for i, tok in enumerate(self.vocab)}\n",
    "        self.int2tok = {i: tok for tok, i in self.tok2int.items()}\n",
    "        \n",
    "    def __len__(self):\n",
    "        return len(self.vocab)"
   ]
  },
  {
   "cell_type": "code",
   "execution_count": 33,
   "metadata": {},
   "outputs": [],
   "source": [
    "class CAPTCHADataset(Dataset):\n",
    "    \n",
    "    def __init__(self, data_path, df, vocab, transform_func):\n",
    "        \n",
    "        self.df = df\n",
    "        self.img_names = self.df['img_name'].unique()\n",
    "        self.vocab = vocab\n",
    "        self.transform_func = transform_func\n",
    "        \n",
    "        imgs = []\n",
    "        for name in self.img_names:\n",
    "            imgs.append(plt.imread(str(data_path/name))[:,:,:3])\n",
    "            \n",
    "        self.images = np.stack(imgs)\n",
    "        \n",
    "    def __len__(self):\n",
    "        return len(self.img_names)\n",
    "    \n",
    "    def __getitem__(self, indx):\n",
    "        cur_name = self.img_names[indx]\n",
    "        \n",
    "        img = self.images[indx]\n",
    "        boxes, labels = [], []\n",
    "        \n",
    "        cur_df = self.df[self.df['img_name'] == cur_name]\n",
    "        for i, row in cur_df.iterrows():\n",
    "            boxes.append([row['x0'], row['y0'], row['x1'], row['y1']])\n",
    "            labels.append(self.vocab.tok2int[row['label']])\n",
    "        \n",
    "        if self.transform_func is not None:\n",
    "            img, boxes, labels = self.transform_func(img, boxes, labels)\n",
    "        \n",
    "        img = torch.FloatTensor(img).permute(2,0,1)\n",
    "        boxes = torch.FloatTensor(boxes) / 300\n",
    "        labels = torch.LongTensor(labels)\n",
    "        \n",
    "        return img, boxes, labels\n",
    "    \n",
    "    \n",
    "def custom_collate(batch):\n",
    "\n",
    "    images = list()\n",
    "    boxes = list()\n",
    "    labels = list()\n",
    "\n",
    "    for b in batch:\n",
    "        images.append(b[0])\n",
    "        boxes.append(b[1])\n",
    "        labels.append(b[2])\n",
    "\n",
    "    images = torch.stack(images, dim=0)\n",
    "\n",
    "    return images, boxes, labels"
   ]
  },
  {
   "cell_type": "code",
   "execution_count": 34,
   "metadata": {},
   "outputs": [],
   "source": [
    "from transforms.transforms import Compose, BoxesToCoords, ElasticTransform, RandomRotate, \\\n",
    "                                  Expand, CoordsToBoxes, RandomShift, Resize\n",
    "\n",
    "class SaltPapper(object):\n",
    "    def __init__(self, pepper=0.01, salt=0.01, prob=0.5, random=np.random):\n",
    "\n",
    "        self.pepper = pepper\n",
    "        self.salt = salt\n",
    "        self.prob = prob\n",
    "        self.random = random\n",
    "\n",
    "    def __call__(self, img, cds=None):\n",
    "        h, w, c = img.shape\n",
    "        pepper, salt = self.pepper * 100, (1 - self.salt) * 100\n",
    "        \n",
    "        if self.random.rand() > self.prob:\n",
    "            return img, cds\n",
    "\n",
    "        noise = self.random.randint(100, size = (h, w, 1))\n",
    "        img = np.where(noise < pepper, 0, img)\n",
    "        img = np.where(noise > salt, 1, img)\n",
    "        \n",
    "        return img, cds\n",
    "\n",
    "tr = Compose([           \n",
    "        BoxesToCoords(relative=False),\n",
    "        Expand((0.7, 1.2), fillval=1),\n",
    "        ElasticTransform(150, 15, 0.5, fillval=1),\n",
    "        RandomShift((-0.05, 0.05), fillval=1),\n",
    "        RandomRotate(10, fillval=1),\n",
    "        SaltPapper(0.03, 0.07),\n",
    "        Resize((300, 300)),\n",
    "        CoordsToBoxes(relative=False),\n",
    "    ], \n",
    "    mode='linear', \n",
    "    border='constant', \n",
    "    outside_points='clamp')\n",
    "\n",
    "def transforms(img, boxes, labels):\n",
    "    \n",
    "    tr_img, tr_boxes = tr(img, boxes)\n",
    "    \n",
    "    # find box indices to remove\n",
    "    # simple remove if ratio of number is changed considerably more than others\n",
    "    chng_ratios = []\n",
    "    for box, tr_box in zip(boxes, tr_boxes):\n",
    "        x0, y0, x1, y1 = box\n",
    "        tr_x0, tr_y0, tr_x1, tr_y1 = tr_box\n",
    "        chng_ratios.append(((x1 - x0) * (y1 - y0)) / ((tr_x1 - tr_x0) * (tr_y1 - tr_y0)))\n",
    "    med_rat = np.median(chng_ratios)\n",
    "    ind2remove = np.where((np.array(chng_ratios) - med_rat) > med_rat / 1.3)\n",
    "    \n",
    "    tr_boxes = np.delete(tr_boxes, ind2remove, 0)\n",
    "    tr_labels = np.delete(labels, ind2remove)\n",
    "    \n",
    "    return tr_img, tr_boxes, tr_labels \n",
    "\n",
    "val_tr = Compose([           \n",
    "        BoxesToCoords(relative=False),\n",
    "        Resize((300, 300)),\n",
    "        CoordsToBoxes(relative=False),\n",
    "    ], \n",
    "    mode='linear', \n",
    "    border='constant', \n",
    "    outside_points='clamp')\n",
    "\n",
    "def val_transforms(img, boxes, labels):\n",
    "    \n",
    "    tr_img, tr_boxes = val_tr(img, boxes)\n",
    "    \n",
    "    return tr_img, tr_boxes, labels "
   ]
  },
  {
   "cell_type": "code",
   "execution_count": 35,
   "metadata": {},
   "outputs": [],
   "source": [
    "# vocab = Vocab(train_df)\n",
    "# vocab.vocab"
   ]
  },
  {
   "cell_type": "code",
   "execution_count": 36,
   "metadata": {},
   "outputs": [],
   "source": [
    "# train_dataset = CAPTCHADataset(data_path/'train', train_df, vocab, transforms)\n",
    "# val_dataset = CAPTCHADataset(data_path/'val', val_df, vocab, val_transforms)"
   ]
  },
  {
   "cell_type": "code",
   "execution_count": 37,
   "metadata": {},
   "outputs": [],
   "source": [
    "# f, ax = plt.subplots(5, 4, figsize=(20, 15))\n",
    "\n",
    "# for i in range(20):\n",
    "#     img, boxes, labels = train_dataset[i]\n",
    "    \n",
    "#     img = img.squeeze().permute(1,2,0).numpy()\n",
    "#     boxes = boxes.numpy()\n",
    "#     labels = labels.numpy()\n",
    "    \n",
    "#     r, c = i // 4, i % 4\n",
    "#     ax[r][c].imshow(img, cmap='gray')\n",
    "    \n",
    "#     for (x0, y0, x1, y1), lbl in zip(boxes, labels):\n",
    "#         x0, y0, x1, y1 = x0 * 300, y0 * 300, x1 * 300, y1 * 300\n",
    "#         w, h = x1 - x0, y1 - y0\n",
    "#         rect = patches.Rectangle((x0, y0), w, h, linewidth=1, edgecolor='r', facecolor='none')\n",
    "#         ax[r][c].add_patch(rect)\n",
    "#         ax[r][c].text(x0, y0, vocab.int2tok[lbl], fontsize=16)\n",
    "#         ax[r][c].axis('off')\n",
    "# plt.show()"
   ]
  },
  {
   "cell_type": "markdown",
   "metadata": {},
   "source": [
    "# Training"
   ]
  },
  {
   "cell_type": "code",
   "execution_count": 40,
   "metadata": {},
   "outputs": [],
   "source": [
    "def train(model, loader, criterion, optimizer, epoch=None, lr_scheduler=None, fp16=False):\n",
    "    model.train()\n",
    "    \n",
    "    if epoch: tqdm_text = f'Training {epoch} epoch'\n",
    "    else:  tqdm_text = f'Training'\n",
    "        \n",
    "    epoch_loss = 0.\n",
    "    for imgs, boxes, labels in tqdm(loader, desc=tqdm_text):\n",
    "        imgs = imgs.cuda()\n",
    "        boxes = [i.cuda() for i in boxes]\n",
    "        labels = [i.cuda() for i in labels]\n",
    "        \n",
    "        pred_boxes, pred_scores = model(imgs)\n",
    "        \n",
    "        loss = criterion(pred_boxes, pred_scores, boxes, labels)\n",
    "        \n",
    "        optimizer.zero_grad()\n",
    "        if fp16:\n",
    "            with amp.scale_loss(loss, optimizer) as scaled_loss:\n",
    "                scaled_loss.backward()\n",
    "        else:\n",
    "            loss.backward()\n",
    "        optimizer.step()\n",
    "        \n",
    "        if lr_scheduler:\n",
    "            lr_scheduler.step()\n",
    "            \n",
    "        epoch_loss += loss.item()\n",
    "        \n",
    "    return epoch_loss / len(loader)\n",
    "\n",
    "\n",
    "def evaluate(model, loader, criterion, epoch=None):\n",
    "    model.eval()\n",
    "    \n",
    "    if epoch: tqdm_text = f'Evaluating {epoch} epoch'\n",
    "    else:  tqdm_text = f'Evaluating'\n",
    "    \n",
    "    epoch_loss = 0.\n",
    "    with torch.no_grad():\n",
    "        for imgs, boxes, labels in tqdm(loader, desc=tqdm_text):\n",
    "            imgs = imgs.cuda()\n",
    "            boxes = [i.cuda() for i in boxes]\n",
    "            labels = [i.cuda() for i in labels]\n",
    "\n",
    "            pred_boxes, pred_scores = model(imgs)\n",
    "\n",
    "            loss = criterion(pred_boxes, pred_scores, boxes, labels)\n",
    "\n",
    "            epoch_loss += loss.item()\n",
    "        \n",
    "    return epoch_loss / len(loader)\n",
    "\n",
    "\n",
    "class History():\n",
    "    \n",
    "    def __init__(self):\n",
    "        \n",
    "        self.train_losses = []\n",
    "        self.val_losses = []\n",
    "        \n",
    "    def update(self, train_loss, val_loss):\n",
    "        self.train_losses.append(train_loss)\n",
    "        self.val_losses.append(val_loss)\n",
    "        "
   ]
  },
  {
   "cell_type": "code",
   "execution_count": 41,
   "metadata": {},
   "outputs": [],
   "source": [
    "def patrially_load_state_dict(model, state_dict):\n",
    "    \"\"\"\n",
    "    copies params which can be loaded from given sate dict in place\n",
    "    returns: dict {layer_name: whether it was changed}\n",
    "    \"\"\"\n",
    "    were_loaded = {}\n",
    "    own_state = model.state_dict()\n",
    "    for name, param in state_dict.items():\n",
    "        param = param.data\n",
    "        if name not in own_state:\n",
    "            were_loaded[name] = False\n",
    "            continue\n",
    "        if own_state[name].shape != param.shape:\n",
    "            were_loaded[name] = False\n",
    "            continue\n",
    "        own_state[name].copy_(param)\n",
    "        were_loaded[name] = True\n",
    "    return were_loaded"
   ]
  },
  {
   "cell_type": "code",
   "execution_count": 42,
   "metadata": {},
   "outputs": [],
   "source": [
    "config = dict(\n",
    "    epochs = 150,\n",
    "    bs = 28,\n",
    "    wait = 5,\n",
    ")\n",
    "\n",
    "vocab = Vocab(train_df)\n",
    "\n",
    "train_dataset = CAPTCHADataset(data_path/'train', train_df, vocab, transforms)\n",
    "val_dataset = CAPTCHADataset(data_path/'val', val_df, vocab, val_transforms)\n",
    "\n",
    "train_loader = DataLoader(train_dataset, config['bs'], collate_fn=custom_collate, num_workers=8)\n",
    "val_loader = DataLoader(val_dataset, config['bs'], collate_fn=custom_collate, num_workers=8)\n",
    "\n",
    "history = History()"
   ]
  },
  {
   "cell_type": "code",
   "execution_count": 41,
   "metadata": {},
   "outputs": [
    {
     "name": "stdout",
     "output_type": "stream",
     "text": [
      "\n",
      "Loaded base model.\n",
      "\n"
     ]
    },
    {
     "name": "stderr",
     "output_type": "stream",
     "text": [
      "/home/egor/venvs/captcha_recognition/lib/python3.6/site-packages/torch/serialization.py:453: SourceChangeWarning: source code of class 'model.SSD300' has changed. you can retrieve the original source code by accessing the object's source attribute or set `torch.nn.Module.dump_patches = True` and use the patch tool to revert the changes.\n",
      "  warnings.warn(msg, SourceChangeWarning)\n",
      "/home/egor/venvs/captcha_recognition/lib/python3.6/site-packages/torch/serialization.py:453: SourceChangeWarning: source code of class 'model.VGGBase' has changed. you can retrieve the original source code by accessing the object's source attribute or set `torch.nn.Module.dump_patches = True` and use the patch tool to revert the changes.\n",
      "  warnings.warn(msg, SourceChangeWarning)\n",
      "/home/egor/venvs/captcha_recognition/lib/python3.6/site-packages/torch/serialization.py:453: SourceChangeWarning: source code of class 'torch.nn.modules.conv.Conv2d' has changed. you can retrieve the original source code by accessing the object's source attribute or set `torch.nn.Module.dump_patches = True` and use the patch tool to revert the changes.\n",
      "  warnings.warn(msg, SourceChangeWarning)\n",
      "/home/egor/venvs/captcha_recognition/lib/python3.6/site-packages/torch/serialization.py:453: SourceChangeWarning: source code of class 'torch.nn.modules.pooling.MaxPool2d' has changed. you can retrieve the original source code by accessing the object's source attribute or set `torch.nn.Module.dump_patches = True` and use the patch tool to revert the changes.\n",
      "  warnings.warn(msg, SourceChangeWarning)\n",
      "/home/egor/venvs/captcha_recognition/lib/python3.6/site-packages/torch/serialization.py:453: SourceChangeWarning: source code of class 'model.AuxiliaryConvolutions' has changed. you can retrieve the original source code by accessing the object's source attribute or set `torch.nn.Module.dump_patches = True` and use the patch tool to revert the changes.\n",
      "  warnings.warn(msg, SourceChangeWarning)\n",
      "/home/egor/venvs/captcha_recognition/lib/python3.6/site-packages/torch/serialization.py:453: SourceChangeWarning: source code of class 'model.PredictionConvolutions' has changed. you can retrieve the original source code by accessing the object's source attribute or set `torch.nn.Module.dump_patches = True` and use the patch tool to revert the changes.\n",
      "  warnings.warn(msg, SourceChangeWarning)\n"
     ]
    }
   ],
   "source": [
    "ssd_model = SSD300(len(vocab) + 1)\n",
    "ssd_model.cuda()\n",
    "\n",
    "checkpointed_state_dict = torch.load('../models/BEST_checkpoint_ssd300.pth')['model'].state_dict()\n",
    "\n",
    "was_loaded_dict = patrially_load_state_dict(ssd_model, checkpointed_state_dict)"
   ]
  },
  {
   "cell_type": "code",
   "execution_count": 42,
   "metadata": {},
   "outputs": [
    {
     "name": "stderr",
     "output_type": "stream",
     "text": [
      "/home/egor/venvs/captcha_recognition/lib/python3.6/site-packages/torch/nn/_reduction.py:43: UserWarning: size_average and reduce args will be deprecated, please use reduction='none' instead.\n",
      "  warnings.warn(warning.format(ret))\n"
     ]
    }
   ],
   "source": [
    "param_groups = [\n",
    "    {'params': [w for name, w in ssd_model.base.named_parameters() if re.findall('[a-z]1', name)]},\n",
    "    {'params': [w for name, w in ssd_model.base.named_parameters() if re.findall('[a-z]2', name)]},\n",
    "    {'params': [w for name, w in ssd_model.base.named_parameters() if re.findall('[a-z]3', name)]},\n",
    "    {'params': [w for name, w in ssd_model.base.named_parameters() if re.findall('[a-z]4', name)]},\n",
    "    {'params': [w for name, w in ssd_model.base.named_parameters() if re.findall('[a-z]5', name)]},\n",
    "    {'params': [w for name, w in ssd_model.base.named_parameters() if re.findall('[a-z][67]', name)]},\n",
    "    {'params': ssd_model.aux_convs.parameters()},\n",
    "    {'params': ssd_model.pred_convs.parameters()}\n",
    "]\n",
    "\n",
    "optimizer = torch.optim.RAdam(param_groups, lr=1e-3, weight_decay=1e-3)\n",
    "criterion = MultiBoxLoss(ssd_model.priors_cxcy)"
   ]
  },
  {
   "cell_type": "code",
   "execution_count": 43,
   "metadata": {},
   "outputs": [],
   "source": [
    "ssd_model, optimizer = amp.initialize(ssd_model, optimizer, opt_level=\"O1\", verbosity=0)"
   ]
  },
  {
   "cell_type": "code",
   "execution_count": 51,
   "metadata": {},
   "outputs": [],
   "source": [
    "for name, param in ssd_model.named_parameters():\n",
    "    if was_loaded_dict[name] is True:\n",
    "        param.requires_grad = False\n",
    "    else:\n",
    "        param.requires_grad = True"
   ]
  },
  {
   "cell_type": "code",
   "execution_count": 52,
   "metadata": {},
   "outputs": [
    {
     "name": "stderr",
     "output_type": "stream",
     "text": [
      "Training 1 epoch: 100%|██████████| 249/249 [01:29<00:00,  3.48it/s]\n",
      "Evaluating 1 epoch: 100%|██████████| 44/44 [00:15<00:00,  3.05it/s]\n",
      "Training 2 epoch:   0%|          | 0/249 [00:00<?, ?it/s]"
     ]
    },
    {
     "name": "stdout",
     "output_type": "stream",
     "text": [
      "1: train loss 6.6512, val loss 5.4110\n"
     ]
    },
    {
     "name": "stderr",
     "output_type": "stream",
     "text": [
      "Training 2 epoch: 100%|██████████| 249/249 [01:29<00:00,  3.51it/s]\n",
      "Evaluating 2 epoch: 100%|██████████| 44/44 [00:15<00:00,  3.04it/s]"
     ]
    },
    {
     "name": "stdout",
     "output_type": "stream",
     "text": [
      "2: train loss 5.1195, val loss 5.2627\n"
     ]
    },
    {
     "name": "stderr",
     "output_type": "stream",
     "text": [
      "\n"
     ]
    }
   ],
   "source": [
    "best_loss = np.inf\n",
    "for epoch in range(2):\n",
    "    \n",
    "    train_loss = train(ssd_model, train_loader, criterion, optimizer, epoch=epoch+1, fp16=True)\n",
    "    val_loss = evaluate(ssd_model, val_loader, criterion, epoch=epoch+1)\n",
    "    \n",
    "    print('{}: train loss {:.4f}, val loss {:.4f}'.format(epoch+1, train_loss, val_loss))"
   ]
  },
  {
   "cell_type": "code",
   "execution_count": 68,
   "metadata": {},
   "outputs": [],
   "source": [
    "torch.save({'model_state_dict': ssd_model.state_dict(),\n",
    "            'optimizer_state_dict': optimizer.state_dict(),\n",
    "        }, '../models/fns_ssd_head_huge_data.ptr', )"
   ]
  },
  {
   "cell_type": "code",
   "execution_count": 70,
   "metadata": {},
   "outputs": [],
   "source": [
    "ssd_model.load_state_dict(torch.load('../models/fns_ssd_head_huge_data.ptr', \n",
    "                                     map_location='cpu')['model_state_dict'])\n",
    "optimizer.load_state_dict(torch.load('../models/fns_ssd_head_huge_data.ptr',\n",
    "                                     map_location='cpu')['optimizer_state_dict'])"
   ]
  },
  {
   "cell_type": "code",
   "execution_count": 71,
   "metadata": {},
   "outputs": [],
   "source": [
    "for param in ssd_model.parameters():\n",
    "    param.requires_grad = True"
   ]
  },
  {
   "cell_type": "code",
   "execution_count": 72,
   "metadata": {},
   "outputs": [],
   "source": [
    "base_lr = 1e-3\n",
    "\n",
    "def lr_update(n, base_lr):\n",
    "    # epochs are counted from 0\n",
    "    return base_lr * 0.7 ** n\n",
    "\n",
    "for i, group in enumerate(optimizer.param_groups[::-1]):\n",
    "    cur_lr = lr_update(i, base_lr)\n",
    "    group['lr'] = cur_lr"
   ]
  },
  {
   "cell_type": "code",
   "execution_count": 73,
   "metadata": {},
   "outputs": [
    {
     "name": "stdout",
     "output_type": "stream",
     "text": [
      "8.235429999999997e-05\n",
      "0.00011764899999999997\n",
      "0.00016806999999999995\n",
      "0.00024009999999999995\n",
      "0.00034299999999999993\n",
      "0.00049\n",
      "0.0007\n",
      "0.001\n"
     ]
    }
   ],
   "source": [
    "for group in optimizer.param_groups:\n",
    "    print(group['lr'])"
   ]
  },
  {
   "cell_type": "code",
   "execution_count": 74,
   "metadata": {
    "scrolled": true
   },
   "outputs": [
    {
     "name": "stderr",
     "output_type": "stream",
     "text": [
      "Training 1 epoch: 100%|██████████| 284/284 [06:17<00:00,  1.23s/it]\n",
      "Evaluating 1 epoch: 100%|██████████| 51/51 [00:16<00:00,  3.17it/s]\n",
      "Training 2 epoch:   0%|          | 0/284 [00:00<?, ?it/s]"
     ]
    },
    {
     "name": "stdout",
     "output_type": "stream",
     "text": [
      "1: train loss 3.1405, val loss 2.0494\n"
     ]
    },
    {
     "name": "stderr",
     "output_type": "stream",
     "text": [
      "Training 2 epoch: 100%|██████████| 284/284 [06:19<00:00,  1.23s/it]\n",
      "Evaluating 2 epoch: 100%|██████████| 51/51 [00:16<00:00,  3.17it/s]\n",
      "Training 3 epoch:   0%|          | 0/284 [00:00<?, ?it/s]"
     ]
    },
    {
     "name": "stdout",
     "output_type": "stream",
     "text": [
      "2: train loss 1.9340, val loss 1.5400\n"
     ]
    },
    {
     "name": "stderr",
     "output_type": "stream",
     "text": [
      "Training 3 epoch: 100%|██████████| 284/284 [06:19<00:00,  1.23s/it]\n",
      "Evaluating 3 epoch: 100%|██████████| 51/51 [00:16<00:00,  3.17it/s]\n",
      "Training 4 epoch:   0%|          | 0/284 [00:00<?, ?it/s]"
     ]
    },
    {
     "name": "stdout",
     "output_type": "stream",
     "text": [
      "3: train loss 1.6117, val loss 1.3713\n"
     ]
    },
    {
     "name": "stderr",
     "output_type": "stream",
     "text": [
      "Training 4 epoch: 100%|██████████| 284/284 [06:19<00:00,  1.23s/it]\n",
      "Evaluating 4 epoch: 100%|██████████| 51/51 [00:16<00:00,  3.17it/s]\n",
      "Training 5 epoch:   0%|          | 0/284 [00:00<?, ?it/s]"
     ]
    },
    {
     "name": "stdout",
     "output_type": "stream",
     "text": [
      "4: train loss 1.4274, val loss 1.3440\n"
     ]
    },
    {
     "name": "stderr",
     "output_type": "stream",
     "text": [
      "Training 5 epoch: 100%|██████████| 284/284 [06:19<00:00,  1.23s/it]\n",
      "Evaluating 5 epoch: 100%|██████████| 51/51 [00:16<00:00,  3.19it/s]\n",
      "Training 6 epoch:   0%|          | 0/284 [00:00<?, ?it/s]"
     ]
    },
    {
     "name": "stdout",
     "output_type": "stream",
     "text": [
      "5: train loss 1.3068, val loss 1.2992\n"
     ]
    },
    {
     "name": "stderr",
     "output_type": "stream",
     "text": [
      "Training 6 epoch: 100%|██████████| 284/284 [06:19<00:00,  1.23s/it]\n",
      "Evaluating 6 epoch: 100%|██████████| 51/51 [00:16<00:00,  3.17it/s]\n",
      "Training 7 epoch:   0%|          | 0/284 [00:00<?, ?it/s]"
     ]
    },
    {
     "name": "stdout",
     "output_type": "stream",
     "text": [
      "6: train loss 1.2153, val loss 1.3267\n"
     ]
    },
    {
     "name": "stderr",
     "output_type": "stream",
     "text": [
      "Training 7 epoch:   2%|▏         | 5/284 [00:07<07:22,  1.59s/it]\n"
     ]
    },
    {
     "ename": "KeyboardInterrupt",
     "evalue": "",
     "output_type": "error",
     "traceback": [
      "\u001b[0;31m---------------------------------------------------------------------------\u001b[0m",
      "\u001b[0;31mKeyboardInterrupt\u001b[0m                         Traceback (most recent call last)",
      "\u001b[0;32m<ipython-input-74-3b3d19a3f224>\u001b[0m in \u001b[0;36m<module>\u001b[0;34m\u001b[0m\n\u001b[1;32m      4\u001b[0m \u001b[0;32mfor\u001b[0m \u001b[0mepoch\u001b[0m \u001b[0;32min\u001b[0m \u001b[0mrange\u001b[0m\u001b[0;34m(\u001b[0m\u001b[0mconfig\u001b[0m\u001b[0;34m[\u001b[0m\u001b[0;34m'epochs'\u001b[0m\u001b[0;34m]\u001b[0m\u001b[0;34m)\u001b[0m\u001b[0;34m:\u001b[0m\u001b[0;34m\u001b[0m\u001b[0;34m\u001b[0m\u001b[0m\n\u001b[1;32m      5\u001b[0m \u001b[0;34m\u001b[0m\u001b[0m\n\u001b[0;32m----> 6\u001b[0;31m     \u001b[0mtrain_loss\u001b[0m \u001b[0;34m=\u001b[0m \u001b[0mtrain\u001b[0m\u001b[0;34m(\u001b[0m\u001b[0mssd_model\u001b[0m\u001b[0;34m,\u001b[0m \u001b[0mtrain_loader\u001b[0m\u001b[0;34m,\u001b[0m \u001b[0mcriterion\u001b[0m\u001b[0;34m,\u001b[0m \u001b[0moptimizer\u001b[0m\u001b[0;34m,\u001b[0m \u001b[0mepoch\u001b[0m\u001b[0;34m=\u001b[0m\u001b[0mepoch\u001b[0m\u001b[0;34m+\u001b[0m\u001b[0;36m1\u001b[0m\u001b[0;34m,\u001b[0m \u001b[0mfp16\u001b[0m\u001b[0;34m=\u001b[0m\u001b[0;32mTrue\u001b[0m\u001b[0;34m)\u001b[0m\u001b[0;34m\u001b[0m\u001b[0;34m\u001b[0m\u001b[0m\n\u001b[0m\u001b[1;32m      7\u001b[0m     \u001b[0mval_loss\u001b[0m \u001b[0;34m=\u001b[0m \u001b[0mevaluate\u001b[0m\u001b[0;34m(\u001b[0m\u001b[0mssd_model\u001b[0m\u001b[0;34m,\u001b[0m \u001b[0mval_loader\u001b[0m\u001b[0;34m,\u001b[0m \u001b[0mcriterion\u001b[0m\u001b[0;34m,\u001b[0m \u001b[0mepoch\u001b[0m\u001b[0;34m=\u001b[0m\u001b[0mepoch\u001b[0m\u001b[0;34m+\u001b[0m\u001b[0;36m1\u001b[0m\u001b[0;34m)\u001b[0m\u001b[0;34m\u001b[0m\u001b[0;34m\u001b[0m\u001b[0m\n\u001b[1;32m      8\u001b[0m \u001b[0;34m\u001b[0m\u001b[0m\n",
      "\u001b[0;32m<ipython-input-41-058bb2b2b9c7>\u001b[0m in \u001b[0;36mtrain\u001b[0;34m(model, loader, criterion, optimizer, epoch, lr_scheduler, fp16)\u001b[0m\n\u001b[1;32m     14\u001b[0m         \u001b[0mpred_boxes\u001b[0m\u001b[0;34m,\u001b[0m \u001b[0mpred_scores\u001b[0m \u001b[0;34m=\u001b[0m \u001b[0mmodel\u001b[0m\u001b[0;34m(\u001b[0m\u001b[0mimgs\u001b[0m\u001b[0;34m)\u001b[0m\u001b[0;34m\u001b[0m\u001b[0;34m\u001b[0m\u001b[0m\n\u001b[1;32m     15\u001b[0m \u001b[0;34m\u001b[0m\u001b[0m\n\u001b[0;32m---> 16\u001b[0;31m         \u001b[0mloss\u001b[0m \u001b[0;34m=\u001b[0m \u001b[0mcriterion\u001b[0m\u001b[0;34m(\u001b[0m\u001b[0mpred_boxes\u001b[0m\u001b[0;34m,\u001b[0m \u001b[0mpred_scores\u001b[0m\u001b[0;34m,\u001b[0m \u001b[0mboxes\u001b[0m\u001b[0;34m,\u001b[0m \u001b[0mlabels\u001b[0m\u001b[0;34m)\u001b[0m\u001b[0;34m\u001b[0m\u001b[0;34m\u001b[0m\u001b[0m\n\u001b[0m\u001b[1;32m     17\u001b[0m \u001b[0;34m\u001b[0m\u001b[0m\n\u001b[1;32m     18\u001b[0m         \u001b[0moptimizer\u001b[0m\u001b[0;34m.\u001b[0m\u001b[0mzero_grad\u001b[0m\u001b[0;34m(\u001b[0m\u001b[0;34m)\u001b[0m\u001b[0;34m\u001b[0m\u001b[0;34m\u001b[0m\u001b[0m\n",
      "\u001b[0;32m~/venvs/captcha_recognition/lib/python3.6/site-packages/torch/nn/modules/module.py\u001b[0m in \u001b[0;36m__call__\u001b[0;34m(self, *input, **kwargs)\u001b[0m\n\u001b[1;32m    545\u001b[0m             \u001b[0mresult\u001b[0m \u001b[0;34m=\u001b[0m \u001b[0mself\u001b[0m\u001b[0;34m.\u001b[0m\u001b[0m_slow_forward\u001b[0m\u001b[0;34m(\u001b[0m\u001b[0;34m*\u001b[0m\u001b[0minput\u001b[0m\u001b[0;34m,\u001b[0m \u001b[0;34m**\u001b[0m\u001b[0mkwargs\u001b[0m\u001b[0;34m)\u001b[0m\u001b[0;34m\u001b[0m\u001b[0;34m\u001b[0m\u001b[0m\n\u001b[1;32m    546\u001b[0m         \u001b[0;32melse\u001b[0m\u001b[0;34m:\u001b[0m\u001b[0;34m\u001b[0m\u001b[0;34m\u001b[0m\u001b[0m\n\u001b[0;32m--> 547\u001b[0;31m             \u001b[0mresult\u001b[0m \u001b[0;34m=\u001b[0m \u001b[0mself\u001b[0m\u001b[0;34m.\u001b[0m\u001b[0mforward\u001b[0m\u001b[0;34m(\u001b[0m\u001b[0;34m*\u001b[0m\u001b[0minput\u001b[0m\u001b[0;34m,\u001b[0m \u001b[0;34m**\u001b[0m\u001b[0mkwargs\u001b[0m\u001b[0;34m)\u001b[0m\u001b[0;34m\u001b[0m\u001b[0;34m\u001b[0m\u001b[0m\n\u001b[0m\u001b[1;32m    548\u001b[0m         \u001b[0;32mfor\u001b[0m \u001b[0mhook\u001b[0m \u001b[0;32min\u001b[0m \u001b[0mself\u001b[0m\u001b[0;34m.\u001b[0m\u001b[0m_forward_hooks\u001b[0m\u001b[0;34m.\u001b[0m\u001b[0mvalues\u001b[0m\u001b[0;34m(\u001b[0m\u001b[0;34m)\u001b[0m\u001b[0;34m:\u001b[0m\u001b[0;34m\u001b[0m\u001b[0;34m\u001b[0m\u001b[0m\n\u001b[1;32m    549\u001b[0m             \u001b[0mhook_result\u001b[0m \u001b[0;34m=\u001b[0m \u001b[0mhook\u001b[0m\u001b[0;34m(\u001b[0m\u001b[0mself\u001b[0m\u001b[0;34m,\u001b[0m \u001b[0minput\u001b[0m\u001b[0;34m,\u001b[0m \u001b[0mresult\u001b[0m\u001b[0;34m)\u001b[0m\u001b[0;34m\u001b[0m\u001b[0;34m\u001b[0m\u001b[0m\n",
      "\u001b[0;32m~/job/CAPTCHA_recognition/notebooks/model.py\u001b[0m in \u001b[0;36mforward\u001b[0;34m(self, predicted_locs, predicted_scores, boxes, labels)\u001b[0m\n\u001b[1;32m    574\u001b[0m \u001b[0;34m\u001b[0m\u001b[0m\n\u001b[1;32m    575\u001b[0m             overlap = find_jaccard_overlap(boxes[i],\n\u001b[0;32m--> 576\u001b[0;31m                                            self.priors_xy)  # (n_objects, 8732)\n\u001b[0m\u001b[1;32m    577\u001b[0m \u001b[0;34m\u001b[0m\u001b[0m\n\u001b[1;32m    578\u001b[0m             \u001b[0;31m# For each prior, find the object that has the maximum overlap\u001b[0m\u001b[0;34m\u001b[0m\u001b[0;34m\u001b[0m\u001b[0;34m\u001b[0m\u001b[0m\n",
      "\u001b[0;32m~/job/CAPTCHA_recognition/notebooks/utils.py\u001b[0m in \u001b[0;36mfind_jaccard_overlap\u001b[0;34m(set_1, set_2)\u001b[0m\n\u001b[1;32m    364\u001b[0m \u001b[0;34m\u001b[0m\u001b[0m\n\u001b[1;32m    365\u001b[0m     \u001b[0;31m# Find intersections\u001b[0m\u001b[0;34m\u001b[0m\u001b[0;34m\u001b[0m\u001b[0;34m\u001b[0m\u001b[0m\n\u001b[0;32m--> 366\u001b[0;31m     \u001b[0mintersection\u001b[0m \u001b[0;34m=\u001b[0m \u001b[0mfind_intersection\u001b[0m\u001b[0;34m(\u001b[0m\u001b[0mset_1\u001b[0m\u001b[0;34m,\u001b[0m \u001b[0mset_2\u001b[0m\u001b[0;34m)\u001b[0m  \u001b[0;31m# (n1, n2)\u001b[0m\u001b[0;34m\u001b[0m\u001b[0;34m\u001b[0m\u001b[0m\n\u001b[0m\u001b[1;32m    367\u001b[0m \u001b[0;34m\u001b[0m\u001b[0m\n\u001b[1;32m    368\u001b[0m     \u001b[0;31m# Find areas of each box in both sets\u001b[0m\u001b[0;34m\u001b[0m\u001b[0;34m\u001b[0m\u001b[0;34m\u001b[0m\u001b[0m\n",
      "\u001b[0;32m~/job/CAPTCHA_recognition/notebooks/utils.py\u001b[0m in \u001b[0;36mfind_intersection\u001b[0;34m(set_1, set_2)\u001b[0m\n\u001b[1;32m    349\u001b[0m     \u001b[0;31m# PyTorch auto-broadcasts singleton dimensions\u001b[0m\u001b[0;34m\u001b[0m\u001b[0;34m\u001b[0m\u001b[0;34m\u001b[0m\u001b[0m\n\u001b[1;32m    350\u001b[0m     \u001b[0mlower_bounds\u001b[0m \u001b[0;34m=\u001b[0m \u001b[0mtorch\u001b[0m\u001b[0;34m.\u001b[0m\u001b[0mmax\u001b[0m\u001b[0;34m(\u001b[0m\u001b[0mset_1\u001b[0m\u001b[0;34m[\u001b[0m\u001b[0;34m:\u001b[0m\u001b[0;34m,\u001b[0m \u001b[0;34m:\u001b[0m\u001b[0;36m2\u001b[0m\u001b[0;34m]\u001b[0m\u001b[0;34m.\u001b[0m\u001b[0munsqueeze\u001b[0m\u001b[0;34m(\u001b[0m\u001b[0;36m1\u001b[0m\u001b[0;34m)\u001b[0m\u001b[0;34m,\u001b[0m \u001b[0mset_2\u001b[0m\u001b[0;34m[\u001b[0m\u001b[0;34m:\u001b[0m\u001b[0;34m,\u001b[0m \u001b[0;34m:\u001b[0m\u001b[0;36m2\u001b[0m\u001b[0;34m]\u001b[0m\u001b[0;34m.\u001b[0m\u001b[0munsqueeze\u001b[0m\u001b[0;34m(\u001b[0m\u001b[0;36m0\u001b[0m\u001b[0;34m)\u001b[0m\u001b[0;34m)\u001b[0m  \u001b[0;31m# (n1, n2, 2)\u001b[0m\u001b[0;34m\u001b[0m\u001b[0;34m\u001b[0m\u001b[0m\n\u001b[0;32m--> 351\u001b[0;31m     \u001b[0mupper_bounds\u001b[0m \u001b[0;34m=\u001b[0m \u001b[0mtorch\u001b[0m\u001b[0;34m.\u001b[0m\u001b[0mmin\u001b[0m\u001b[0;34m(\u001b[0m\u001b[0mset_1\u001b[0m\u001b[0;34m[\u001b[0m\u001b[0;34m:\u001b[0m\u001b[0;34m,\u001b[0m \u001b[0;36m2\u001b[0m\u001b[0;34m:\u001b[0m\u001b[0;34m]\u001b[0m\u001b[0;34m.\u001b[0m\u001b[0munsqueeze\u001b[0m\u001b[0;34m(\u001b[0m\u001b[0;36m1\u001b[0m\u001b[0;34m)\u001b[0m\u001b[0;34m,\u001b[0m \u001b[0mset_2\u001b[0m\u001b[0;34m[\u001b[0m\u001b[0;34m:\u001b[0m\u001b[0;34m,\u001b[0m \u001b[0;36m2\u001b[0m\u001b[0;34m:\u001b[0m\u001b[0;34m]\u001b[0m\u001b[0;34m.\u001b[0m\u001b[0munsqueeze\u001b[0m\u001b[0;34m(\u001b[0m\u001b[0;36m0\u001b[0m\u001b[0;34m)\u001b[0m\u001b[0;34m)\u001b[0m  \u001b[0;31m# (n1, n2, 2)\u001b[0m\u001b[0;34m\u001b[0m\u001b[0;34m\u001b[0m\u001b[0m\n\u001b[0m\u001b[1;32m    352\u001b[0m     \u001b[0mintersection_dims\u001b[0m \u001b[0;34m=\u001b[0m \u001b[0mtorch\u001b[0m\u001b[0;34m.\u001b[0m\u001b[0mclamp\u001b[0m\u001b[0;34m(\u001b[0m\u001b[0mupper_bounds\u001b[0m \u001b[0;34m-\u001b[0m \u001b[0mlower_bounds\u001b[0m\u001b[0;34m,\u001b[0m \u001b[0mmin\u001b[0m\u001b[0;34m=\u001b[0m\u001b[0;36m0\u001b[0m\u001b[0;34m)\u001b[0m  \u001b[0;31m# (n1, n2, 2)\u001b[0m\u001b[0;34m\u001b[0m\u001b[0;34m\u001b[0m\u001b[0m\n\u001b[1;32m    353\u001b[0m     \u001b[0;32mreturn\u001b[0m \u001b[0mintersection_dims\u001b[0m\u001b[0;34m[\u001b[0m\u001b[0;34m:\u001b[0m\u001b[0;34m,\u001b[0m \u001b[0;34m:\u001b[0m\u001b[0;34m,\u001b[0m \u001b[0;36m0\u001b[0m\u001b[0;34m]\u001b[0m \u001b[0;34m*\u001b[0m \u001b[0mintersection_dims\u001b[0m\u001b[0;34m[\u001b[0m\u001b[0;34m:\u001b[0m\u001b[0;34m,\u001b[0m \u001b[0;34m:\u001b[0m\u001b[0;34m,\u001b[0m \u001b[0;36m1\u001b[0m\u001b[0;34m]\u001b[0m  \u001b[0;31m# (n1, n2)\u001b[0m\u001b[0;34m\u001b[0m\u001b[0;34m\u001b[0m\u001b[0m\n",
      "\u001b[0;31mKeyboardInterrupt\u001b[0m: "
     ]
    }
   ],
   "source": [
    "best_loss = np.inf\n",
    "no_improvement = 0\n",
    "early_stop_cntr = 0\n",
    "for epoch in range(config['epochs']):\n",
    "    \n",
    "    train_loss = train(ssd_model, train_loader, criterion, optimizer, epoch=epoch+1, fp16=True)\n",
    "    val_loss = evaluate(ssd_model, val_loader, criterion, epoch=epoch+1)\n",
    "    \n",
    "    if val_loss < best_loss:\n",
    "        best_loss = val_loss\n",
    "        no_improvement = 0\n",
    "        early_stop_cntr = 0\n",
    "        torch.save({\n",
    "            'model_state_dict': ssd_model.state_dict(),\n",
    "            'optimizer_state_dict': optimizer.state_dict(),\n",
    "        }, '../models/fns_ssd_huge_data.ptr')\n",
    "    \n",
    "    else:\n",
    "        if no_improvement > 7:\n",
    "            print('Lr decreased by 0.5')\n",
    "            for group in optimizer.param_groups:\n",
    "                group['lr'] = group['lr'] * 0.5\n",
    "            no_improvement = 0\n",
    "        elif early_stop_cntr > 25:\n",
    "            print('Early stopped')\n",
    "            print('{}: train loss {:.4f}, val loss {:.4f}'.format(epoch+1, train_loss, val_loss))\n",
    "            break\n",
    "        else:\n",
    "            no_improvement += 1\n",
    "            early_stop_cntr += 1\n",
    "            \n",
    "    history.update(train_loss, val_loss)\n",
    "    print('{}: train loss {:.4f}, val loss {:.4f}'.format(epoch+1, train_loss, val_loss))"
   ]
  },
  {
   "cell_type": "code",
   "execution_count": 75,
   "metadata": {},
   "outputs": [
    {
     "data": {
      "image/png": "[encoded data removed]",
      "text/plain": [
       "<Figure size 432x288 with 1 Axes>"
      ]
     },
     "metadata": {
      "needs_background": "light"
     },
     "output_type": "display_data"
    }
   ],
   "source": [
    "epochs = list(range(len(history.train_losses)))\n",
    "plt.plot(epochs, history.train_losses, 'b')\n",
    "plt.plot(epochs, history.val_losses, 'r')\n",
    "plt.xlabel('epochs')\n",
    "plt.ylabel('loss')\n",
    "plt.legend(['Training Loss', 'Val Loss'])\n",
    "plt.show();"
   ]
  },
  {
   "cell_type": "code",
   "execution_count": null,
   "metadata": {},
   "outputs": [],
   "source": []
  },
  {
   "cell_type": "code",
   "execution_count": 44,
   "metadata": {},
   "outputs": [],
   "source": [
    "ssd_model.load_state_dict(torch.load('../models/fns_ssd_huge_data.ptr')['model_state_dict'])\n",
    "optimizer.load_state_dict(torch.load('../models/fns_ssd_huge_data.ptr')['optimizer_state_dict'])"
   ]
  },
  {
   "cell_type": "code",
   "execution_count": 45,
   "metadata": {},
   "outputs": [],
   "source": [
    "base_lr = 1e-4\n",
    "\n",
    "def lr_update(n, base_lr):\n",
    "    # epochs are counted from 0\n",
    "    return base_lr * 0.7 ** n\n",
    "\n",
    "for i, group in enumerate(optimizer.param_groups[::-1]):\n",
    "    cur_lr = lr_update(i, base_lr)\n",
    "    group['lr'] = cur_lr"
   ]
  },
  {
   "cell_type": "code",
   "execution_count": 46,
   "metadata": {
    "scrolled": true
   },
   "outputs": [
    {
     "name": "stderr",
     "output_type": "stream",
     "text": [
      "Training 1 epoch: 100%|██████████| 284/284 [06:15<00:00,  1.22s/it]\n",
      "Evaluating 1 epoch: 100%|██████████| 51/51 [00:15<00:00,  3.20it/s]\n",
      "Training 2 epoch:   0%|          | 0/284 [00:00<?, ?it/s]"
     ]
    },
    {
     "name": "stdout",
     "output_type": "stream",
     "text": [
      "1: train loss 1.4621, val loss 1.1571\n"
     ]
    },
    {
     "name": "stderr",
     "output_type": "stream",
     "text": [
      "Training 2 epoch: 100%|██████████| 284/284 [06:17<00:00,  1.23s/it]\n",
      "Evaluating 2 epoch: 100%|██████████| 51/51 [00:15<00:00,  3.21it/s]\n",
      "Training 3 epoch:   0%|          | 0/284 [00:00<?, ?it/s]"
     ]
    },
    {
     "name": "stdout",
     "output_type": "stream",
     "text": [
      "2: train loss 1.3794, val loss 1.1345\n"
     ]
    },
    {
     "name": "stderr",
     "output_type": "stream",
     "text": [
      "Training 3 epoch: 100%|██████████| 284/284 [06:16<00:00,  1.23s/it]\n",
      "Evaluating 3 epoch: 100%|██████████| 51/51 [00:15<00:00,  3.20it/s]\n",
      "Training 4 epoch:   0%|          | 0/284 [00:00<?, ?it/s]"
     ]
    },
    {
     "name": "stdout",
     "output_type": "stream",
     "text": [
      "3: train loss 1.3283, val loss 1.1185\n"
     ]
    },
    {
     "name": "stderr",
     "output_type": "stream",
     "text": [
      "Training 4 epoch: 100%|██████████| 284/284 [06:19<00:00,  1.23s/it]\n",
      "Evaluating 4 epoch: 100%|██████████| 51/51 [00:15<00:00,  3.21it/s]\n",
      "Training 5 epoch:   0%|          | 0/284 [00:00<?, ?it/s]"
     ]
    },
    {
     "name": "stdout",
     "output_type": "stream",
     "text": [
      "4: train loss 1.2830, val loss 1.1190\n"
     ]
    },
    {
     "name": "stderr",
     "output_type": "stream",
     "text": [
      "Training 5 epoch: 100%|██████████| 284/284 [06:20<00:00,  1.23s/it]\n",
      "Evaluating 5 epoch: 100%|██████████| 51/51 [00:15<00:00,  3.20it/s]\n",
      "Training 6 epoch:   0%|          | 0/284 [00:00<?, ?it/s]"
     ]
    },
    {
     "name": "stdout",
     "output_type": "stream",
     "text": [
      "5: train loss 1.2399, val loss 1.1322\n"
     ]
    },
    {
     "name": "stderr",
     "output_type": "stream",
     "text": [
      "Training 6 epoch: 100%|██████████| 284/284 [06:20<00:00,  1.23s/it]\n",
      "Evaluating 6 epoch: 100%|██████████| 51/51 [00:16<00:00,  3.18it/s]\n",
      "Training 7 epoch:   0%|          | 0/284 [00:00<?, ?it/s]"
     ]
    },
    {
     "name": "stdout",
     "output_type": "stream",
     "text": [
      "6: train loss 1.1983, val loss 1.1564\n"
     ]
    },
    {
     "name": "stderr",
     "output_type": "stream",
     "text": [
      "Training 7 epoch: 100%|██████████| 284/284 [06:20<00:00,  1.23s/it]\n",
      "Evaluating 7 epoch: 100%|██████████| 51/51 [00:15<00:00,  3.19it/s]\n",
      "Training 8 epoch:   0%|          | 0/284 [00:00<?, ?it/s]"
     ]
    },
    {
     "name": "stdout",
     "output_type": "stream",
     "text": [
      "7: train loss 1.1575, val loss 1.1804\n"
     ]
    },
    {
     "name": "stderr",
     "output_type": "stream",
     "text": [
      "Training 8 epoch:   1%|▏         | 4/284 [00:06<07:40,  1.64s/it]Process Process-117:\n",
      "Process Process-114:\n",
      "Process Process-115:\n",
      "Process Process-116:\n",
      "Traceback (most recent call last):\n",
      "Traceback (most recent call last):\n",
      "Traceback (most recent call last):\n",
      "Traceback (most recent call last):\n",
      "  File \"/usr/lib/python3.6/multiprocessing/process.py\", line 261, in _bootstrap\n",
      "    util._exit_function()\n",
      "  File \"/usr/lib/python3.6/multiprocessing/util.py\", line 322, in _exit_function\n",
      "    _run_finalizers()\n",
      "  File \"/usr/lib/python3.6/multiprocessing/process.py\", line 261, in _bootstrap\n",
      "    util._exit_function()\n",
      "  File \"/usr/lib/python3.6/multiprocessing/process.py\", line 261, in _bootstrap\n",
      "    util._exit_function()\n",
      "  File \"/usr/lib/python3.6/multiprocessing/util.py\", line 262, in _run_finalizers\n",
      "    finalizer()\n",
      "  File \"/usr/lib/python3.6/multiprocessing/util.py\", line 322, in _exit_function\n",
      "    _run_finalizers()\n",
      "  File \"/usr/lib/python3.6/multiprocessing/util.py\", line 322, in _exit_function\n",
      "    _run_finalizers()\n",
      "  File \"/usr/lib/python3.6/multiprocessing/util.py\", line 262, in _run_finalizers\n",
      "    finalizer()\n",
      "  File \"/usr/lib/python3.6/multiprocessing/util.py\", line 262, in _run_finalizers\n",
      "    finalizer()\n",
      "  File \"/usr/lib/python3.6/multiprocessing/util.py\", line 186, in __call__\n",
      "    res = self._callback(*self._args, **self._kwargs)\n",
      "  File \"/usr/lib/python3.6/multiprocessing/util.py\", line 186, in __call__\n",
      "    res = self._callback(*self._args, **self._kwargs)\n",
      "  File \"/usr/lib/python3.6/multiprocessing/util.py\", line 186, in __call__\n",
      "    res = self._callback(*self._args, **self._kwargs)\n",
      "  File \"/usr/lib/python3.6/multiprocessing/queues.py\", line 191, in _finalize_join\n",
      "    thread.join()\n",
      "  File \"/usr/lib/python3.6/multiprocessing/queues.py\", line 191, in _finalize_join\n",
      "    thread.join()\n",
      "  File \"/usr/lib/python3.6/threading.py\", line 1056, in join\n",
      "    self._wait_for_tstate_lock()\n",
      "  File \"/usr/lib/python3.6/multiprocessing/queues.py\", line 191, in _finalize_join\n",
      "    thread.join()\n",
      "  File \"/usr/lib/python3.6/threading.py\", line 1056, in join\n",
      "    self._wait_for_tstate_lock()\n",
      "  File \"/usr/lib/python3.6/threading.py\", line 1056, in join\n",
      "    self._wait_for_tstate_lock()\n",
      "  File \"/usr/lib/python3.6/threading.py\", line 1072, in _wait_for_tstate_lock\n",
      "    elif lock.acquire(block, timeout):\n",
      "  File \"/usr/lib/python3.6/threading.py\", line 1072, in _wait_for_tstate_lock\n",
      "    elif lock.acquire(block, timeout):\n",
      "  File \"/usr/lib/python3.6/threading.py\", line 1072, in _wait_for_tstate_lock\n",
      "    elif lock.acquire(block, timeout):\n",
      "  File \"/usr/lib/python3.6/multiprocessing/process.py\", line 261, in _bootstrap\n",
      "    util._exit_function()\n",
      "KeyboardInterrupt\n",
      "  File \"/usr/lib/python3.6/multiprocessing/util.py\", line 322, in _exit_function\n",
      "    _run_finalizers()\n",
      "KeyboardInterrupt\n",
      "KeyboardInterrupt\n",
      "  File \"/usr/lib/python3.6/multiprocessing/util.py\", line 262, in _run_finalizers\n",
      "    finalizer()\n",
      "  File \"/usr/lib/python3.6/multiprocessing/util.py\", line 186, in __call__\n",
      "    res = self._callback(*self._args, **self._kwargs)\n",
      "  File \"/usr/lib/python3.6/multiprocessing/queues.py\", line 191, in _finalize_join\n",
      "    thread.join()\n",
      "  File \"/usr/lib/python3.6/threading.py\", line 1056, in join\n",
      "    self._wait_for_tstate_lock()\n",
      "  File \"/usr/lib/python3.6/threading.py\", line 1072, in _wait_for_tstate_lock\n",
      "    elif lock.acquire(block, timeout):\n",
      "KeyboardInterrupt\n",
      "Exception ignored in: <bound method _MultiProcessingDataLoaderIter.__del__ of <torch.utils.data.dataloader._MultiProcessingDataLoaderIter object at 0x7f7a2c899208>>\n",
      "Traceback (most recent call last):\n",
      "  File \"/home/egor/venvs/captcha_recognition/lib/python3.6/site-packages/torch/utils/data/dataloader.py\", line 926, in __del__\n",
      "    self._shutdown_workers()\n",
      "  File \"/home/egor/venvs/captcha_recognition/lib/python3.6/site-packages/torch/utils/data/dataloader.py\", line 906, in _shutdown_workers\n",
      "    w.join()\n",
      "  File \"/usr/lib/python3.6/multiprocessing/process.py\", line 124, in join\n",
      "    res = self._popen.wait(timeout)\n",
      "  File \"/usr/lib/python3.6/multiprocessing/popen_fork.py\", line 50, in wait\n",
      "    return self.poll(os.WNOHANG if timeout == 0.0 else 0)\n",
      "  File \"/usr/lib/python3.6/multiprocessing/popen_fork.py\", line 28, in poll\n",
      "    pid, sts = os.waitpid(self.pid, flag)\n",
      "KeyboardInterrupt: \n"
     ]
    },
    {
     "ename": "KeyboardInterrupt",
     "evalue": "",
     "output_type": "error",
     "traceback": [
      "\u001b[0;31m---------------------------------------------------------------------------\u001b[0m",
      "\u001b[0;31mKeyboardInterrupt\u001b[0m                         Traceback (most recent call last)",
      "\u001b[0;32m<ipython-input-46-31e06868622b>\u001b[0m in \u001b[0;36m<module>\u001b[0;34m\u001b[0m\n\u001b[1;32m      4\u001b[0m \u001b[0;32mfor\u001b[0m \u001b[0mepoch\u001b[0m \u001b[0;32min\u001b[0m \u001b[0mrange\u001b[0m\u001b[0;34m(\u001b[0m\u001b[0;36m10\u001b[0m\u001b[0;34m)\u001b[0m\u001b[0;34m:\u001b[0m\u001b[0;34m\u001b[0m\u001b[0;34m\u001b[0m\u001b[0m\n\u001b[1;32m      5\u001b[0m \u001b[0;34m\u001b[0m\u001b[0m\n\u001b[0;32m----> 6\u001b[0;31m     \u001b[0mtrain_loss\u001b[0m \u001b[0;34m=\u001b[0m \u001b[0mtrain\u001b[0m\u001b[0;34m(\u001b[0m\u001b[0mssd_model\u001b[0m\u001b[0;34m,\u001b[0m \u001b[0mtrain_loader\u001b[0m\u001b[0;34m,\u001b[0m \u001b[0mcriterion\u001b[0m\u001b[0;34m,\u001b[0m \u001b[0moptimizer\u001b[0m\u001b[0;34m,\u001b[0m \u001b[0mepoch\u001b[0m\u001b[0;34m=\u001b[0m\u001b[0mepoch\u001b[0m\u001b[0;34m+\u001b[0m\u001b[0;36m1\u001b[0m\u001b[0;34m,\u001b[0m \u001b[0mfp16\u001b[0m\u001b[0;34m=\u001b[0m\u001b[0;32mTrue\u001b[0m\u001b[0;34m)\u001b[0m\u001b[0;34m\u001b[0m\u001b[0;34m\u001b[0m\u001b[0m\n\u001b[0m\u001b[1;32m      7\u001b[0m     \u001b[0mval_loss\u001b[0m \u001b[0;34m=\u001b[0m \u001b[0mevaluate\u001b[0m\u001b[0;34m(\u001b[0m\u001b[0mssd_model\u001b[0m\u001b[0;34m,\u001b[0m \u001b[0mval_loader\u001b[0m\u001b[0;34m,\u001b[0m \u001b[0mcriterion\u001b[0m\u001b[0;34m,\u001b[0m \u001b[0mepoch\u001b[0m\u001b[0;34m=\u001b[0m\u001b[0mepoch\u001b[0m\u001b[0;34m+\u001b[0m\u001b[0;36m1\u001b[0m\u001b[0;34m)\u001b[0m\u001b[0;34m\u001b[0m\u001b[0;34m\u001b[0m\u001b[0m\n\u001b[1;32m      8\u001b[0m \u001b[0;34m\u001b[0m\u001b[0m\n",
      "\u001b[0;32m<ipython-input-38-058bb2b2b9c7>\u001b[0m in \u001b[0;36mtrain\u001b[0;34m(model, loader, criterion, optimizer, epoch, lr_scheduler, fp16)\u001b[0m\n\u001b[1;32m     19\u001b[0m         \u001b[0;32mif\u001b[0m \u001b[0mfp16\u001b[0m\u001b[0;34m:\u001b[0m\u001b[0;34m\u001b[0m\u001b[0;34m\u001b[0m\u001b[0m\n\u001b[1;32m     20\u001b[0m             \u001b[0;32mwith\u001b[0m \u001b[0mamp\u001b[0m\u001b[0;34m.\u001b[0m\u001b[0mscale_loss\u001b[0m\u001b[0;34m(\u001b[0m\u001b[0mloss\u001b[0m\u001b[0;34m,\u001b[0m \u001b[0moptimizer\u001b[0m\u001b[0;34m)\u001b[0m \u001b[0;32mas\u001b[0m \u001b[0mscaled_loss\u001b[0m\u001b[0;34m:\u001b[0m\u001b[0;34m\u001b[0m\u001b[0;34m\u001b[0m\u001b[0m\n\u001b[0;32m---> 21\u001b[0;31m                 \u001b[0mscaled_loss\u001b[0m\u001b[0;34m.\u001b[0m\u001b[0mbackward\u001b[0m\u001b[0;34m(\u001b[0m\u001b[0;34m)\u001b[0m\u001b[0;34m\u001b[0m\u001b[0;34m\u001b[0m\u001b[0m\n\u001b[0m\u001b[1;32m     22\u001b[0m         \u001b[0;32melse\u001b[0m\u001b[0;34m:\u001b[0m\u001b[0;34m\u001b[0m\u001b[0;34m\u001b[0m\u001b[0m\n\u001b[1;32m     23\u001b[0m             \u001b[0mloss\u001b[0m\u001b[0;34m.\u001b[0m\u001b[0mbackward\u001b[0m\u001b[0;34m(\u001b[0m\u001b[0;34m)\u001b[0m\u001b[0;34m\u001b[0m\u001b[0;34m\u001b[0m\u001b[0m\n",
      "\u001b[0;32m/usr/lib/python3.6/contextlib.py\u001b[0m in \u001b[0;36m__exit__\u001b[0;34m(self, type, value, traceback)\u001b[0m\n\u001b[1;32m     86\u001b[0m         \u001b[0;32mif\u001b[0m \u001b[0mtype\u001b[0m \u001b[0;32mis\u001b[0m \u001b[0;32mNone\u001b[0m\u001b[0;34m:\u001b[0m\u001b[0;34m\u001b[0m\u001b[0;34m\u001b[0m\u001b[0m\n\u001b[1;32m     87\u001b[0m             \u001b[0;32mtry\u001b[0m\u001b[0;34m:\u001b[0m\u001b[0;34m\u001b[0m\u001b[0;34m\u001b[0m\u001b[0m\n\u001b[0;32m---> 88\u001b[0;31m                 \u001b[0mnext\u001b[0m\u001b[0;34m(\u001b[0m\u001b[0mself\u001b[0m\u001b[0;34m.\u001b[0m\u001b[0mgen\u001b[0m\u001b[0;34m)\u001b[0m\u001b[0;34m\u001b[0m\u001b[0;34m\u001b[0m\u001b[0m\n\u001b[0m\u001b[1;32m     89\u001b[0m             \u001b[0;32mexcept\u001b[0m \u001b[0mStopIteration\u001b[0m\u001b[0;34m:\u001b[0m\u001b[0;34m\u001b[0m\u001b[0;34m\u001b[0m\u001b[0m\n\u001b[1;32m     90\u001b[0m                 \u001b[0;32mreturn\u001b[0m \u001b[0;32mFalse\u001b[0m\u001b[0;34m\u001b[0m\u001b[0;34m\u001b[0m\u001b[0m\n",
      "\u001b[0;32m~/venvs/captcha_recognition/lib/python3.6/site-packages/apex/amp/handle.py\u001b[0m in \u001b[0;36mscale_loss\u001b[0;34m(loss, optimizers, loss_id, model, delay_unscale, delay_overflow_check)\u001b[0m\n\u001b[1;32m    129\u001b[0m             \u001b[0;31m# For future fused optimizers that enable sync-free dynamic loss scaling,\u001b[0m\u001b[0;34m\u001b[0m\u001b[0;34m\u001b[0m\u001b[0;34m\u001b[0m\u001b[0m\n\u001b[1;32m    130\u001b[0m             \u001b[0;31m# should_skip will always be False.\u001b[0m\u001b[0;34m\u001b[0m\u001b[0;34m\u001b[0m\u001b[0;34m\u001b[0m\u001b[0m\n\u001b[0;32m--> 131\u001b[0;31m             \u001b[0mshould_skip\u001b[0m \u001b[0;34m=\u001b[0m \u001b[0;32mFalse\u001b[0m \u001b[0;32mif\u001b[0m \u001b[0mdelay_overflow_check\u001b[0m \u001b[0;32melse\u001b[0m \u001b[0mloss_scaler\u001b[0m\u001b[0;34m.\u001b[0m\u001b[0mupdate_scale\u001b[0m\u001b[0;34m(\u001b[0m\u001b[0;34m)\u001b[0m\u001b[0;34m\u001b[0m\u001b[0;34m\u001b[0m\u001b[0m\n\u001b[0m\u001b[1;32m    132\u001b[0m             \u001b[0;32mif\u001b[0m \u001b[0mshould_skip\u001b[0m\u001b[0;34m:\u001b[0m\u001b[0;34m\u001b[0m\u001b[0;34m\u001b[0m\u001b[0m\n\u001b[1;32m    133\u001b[0m                 \u001b[0;32mfor\u001b[0m \u001b[0moptimizer\u001b[0m \u001b[0;32min\u001b[0m \u001b[0moptimizers\u001b[0m\u001b[0;34m:\u001b[0m\u001b[0;34m\u001b[0m\u001b[0;34m\u001b[0m\u001b[0m\n",
      "\u001b[0;32m~/venvs/captcha_recognition/lib/python3.6/site-packages/apex/amp/scaler.py\u001b[0m in \u001b[0;36mupdate_scale\u001b[0;34m(self)\u001b[0m\n\u001b[1;32m    191\u001b[0m         \u001b[0;31m# If the fused kernel is available, we only need one D2H memcopy and sync.\u001b[0m\u001b[0;34m\u001b[0m\u001b[0;34m\u001b[0m\u001b[0;34m\u001b[0m\u001b[0m\n\u001b[1;32m    192\u001b[0m         \u001b[0;32mif\u001b[0m \u001b[0mLossScaler\u001b[0m\u001b[0;34m.\u001b[0m\u001b[0mhas_fused_kernel\u001b[0m \u001b[0;32mand\u001b[0m \u001b[0mself\u001b[0m\u001b[0;34m.\u001b[0m\u001b[0mdynamic\u001b[0m \u001b[0;32mand\u001b[0m \u001b[0;32mnot\u001b[0m \u001b[0mself\u001b[0m\u001b[0;34m.\u001b[0m\u001b[0m_has_overflow\u001b[0m\u001b[0;34m:\u001b[0m\u001b[0;34m\u001b[0m\u001b[0;34m\u001b[0m\u001b[0m\n\u001b[0;32m--> 193\u001b[0;31m             \u001b[0mself\u001b[0m\u001b[0;34m.\u001b[0m\u001b[0m_has_overflow\u001b[0m \u001b[0;34m=\u001b[0m \u001b[0mself\u001b[0m\u001b[0;34m.\u001b[0m\u001b[0m_overflow_buf\u001b[0m\u001b[0;34m.\u001b[0m\u001b[0mitem\u001b[0m\u001b[0;34m(\u001b[0m\u001b[0;34m)\u001b[0m\u001b[0;34m\u001b[0m\u001b[0;34m\u001b[0m\u001b[0m\n\u001b[0m\u001b[1;32m    194\u001b[0m \u001b[0;34m\u001b[0m\u001b[0m\n\u001b[1;32m    195\u001b[0m         \u001b[0;32mif\u001b[0m \u001b[0mself\u001b[0m\u001b[0;34m.\u001b[0m\u001b[0m_has_overflow\u001b[0m \u001b[0;32mand\u001b[0m \u001b[0mself\u001b[0m\u001b[0;34m.\u001b[0m\u001b[0mdynamic\u001b[0m\u001b[0;34m:\u001b[0m\u001b[0;34m\u001b[0m\u001b[0;34m\u001b[0m\u001b[0m\n",
      "\u001b[0;31mKeyboardInterrupt\u001b[0m: "
     ]
    }
   ],
   "source": [
    "best_loss = 1.2992\n",
    "no_improvement = 0\n",
    "early_stop_cntr = 0\n",
    "for epoch in range(10):\n",
    "    \n",
    "    train_loss = train(ssd_model, train_loader, criterion, optimizer, epoch=epoch+1, fp16=True)\n",
    "    val_loss = evaluate(ssd_model, val_loader, criterion, epoch=epoch+1)\n",
    "    \n",
    "    if val_loss < best_loss:\n",
    "        best_loss = val_loss\n",
    "        no_improvement = 0\n",
    "        early_stop_cntr = 0\n",
    "        torch.save({\n",
    "            'model_state_dict': ssd_model.state_dict(),\n",
    "            'optimizer_state_dict': optimizer.state_dict(),\n",
    "        }, '../models/fns_ssd_huge_data_1.ptr')\n",
    "    \n",
    "    history.update(train_loss, val_loss)\n",
    "    print('{}: train loss {:.4f}, val loss {:.4f}'.format(epoch+1, train_loss, val_loss))"
   ]
  },
  {
   "cell_type": "code",
   "execution_count": 47,
   "metadata": {},
   "outputs": [
    {
     "data": {
      "image/png": "[encoded data removed]",
      "text/plain": [
       "<Figure size 432x288 with 1 Axes>"
      ]
     },
     "metadata": {
      "needs_background": "light"
     },
     "output_type": "display_data"
    }
   ],
   "source": [
    "epochs = list(range(len(history.train_losses)))\n",
    "plt.plot(epochs, history.train_losses, 'b')\n",
    "plt.plot(epochs, history.val_losses, 'r')\n",
    "plt.xlabel('epochs')\n",
    "plt.ylabel('loss')\n",
    "plt.legend(['Training Loss', 'Val Loss'])\n",
    "plt.show();"
   ]
  },
  {
   "cell_type": "code",
   "execution_count": null,
   "metadata": {},
   "outputs": [],
   "source": []
  },
  {
   "cell_type": "code",
   "execution_count": 44,
   "metadata": {},
   "outputs": [],
   "source": [
    "ssd_model.load_state_dict(torch.load('../models/fns_ssd_huge_data_1.ptr')['model_state_dict'])\n",
    "optimizer.load_state_dict(torch.load('../models/fns_ssd_huge_data_1.ptr')['optimizer_state_dict'])"
   ]
  },
  {
   "cell_type": "code",
   "execution_count": 45,
   "metadata": {},
   "outputs": [],
   "source": [
    "base_lr = 1e-5\n",
    "\n",
    "def lr_update(n, base_lr):\n",
    "    # epochs are counted from 0\n",
    "    return base_lr * 1 ** n\n",
    "\n",
    "for i, group in enumerate(optimizer.param_groups[::-1]):\n",
    "    cur_lr = lr_update(i, base_lr)\n",
    "    group['lr'] = cur_lr"
   ]
  },
  {
   "cell_type": "code",
   "execution_count": 46,
   "metadata": {},
   "outputs": [
    {
     "name": "stderr",
     "output_type": "stream",
     "text": [
      "Training 1 epoch: 100%|██████████| 284/284 [06:15<00:00,  1.22s/it]\n",
      "Evaluating 1 epoch: 100%|██████████| 51/51 [00:15<00:00,  3.19it/s]\n",
      "Training 2 epoch:   0%|          | 0/284 [00:00<?, ?it/s]"
     ]
    },
    {
     "name": "stdout",
     "output_type": "stream",
     "text": [
      "1: train loss 1.3633, val loss 1.0756\n"
     ]
    },
    {
     "name": "stderr",
     "output_type": "stream",
     "text": [
      "Training 2 epoch: 100%|██████████| 284/284 [06:17<00:00,  1.23s/it]\n",
      "Evaluating 2 epoch: 100%|██████████| 51/51 [00:15<00:00,  3.21it/s]\n",
      "Training 3 epoch:   0%|          | 0/284 [00:00<?, ?it/s]"
     ]
    },
    {
     "name": "stdout",
     "output_type": "stream",
     "text": [
      "2: train loss 1.3020, val loss 1.0658\n"
     ]
    },
    {
     "name": "stderr",
     "output_type": "stream",
     "text": [
      "Training 3 epoch: 100%|██████████| 284/284 [06:17<00:00,  1.23s/it]\n",
      "Evaluating 3 epoch: 100%|██████████| 51/51 [00:15<00:00,  3.20it/s]\n",
      "Training 4 epoch:   0%|          | 0/284 [00:00<?, ?it/s]"
     ]
    },
    {
     "name": "stdout",
     "output_type": "stream",
     "text": [
      "3: train loss 1.2528, val loss 1.0694\n"
     ]
    },
    {
     "name": "stderr",
     "output_type": "stream",
     "text": [
      "Training 4 epoch: 100%|██████████| 284/284 [06:20<00:00,  1.23s/it]\n",
      "Evaluating 4 epoch: 100%|██████████| 51/51 [00:15<00:00,  3.20it/s]\n",
      "Training 5 epoch:   0%|          | 0/284 [00:00<?, ?it/s]"
     ]
    },
    {
     "name": "stdout",
     "output_type": "stream",
     "text": [
      "4: train loss 1.2075, val loss 1.0857\n"
     ]
    },
    {
     "name": "stderr",
     "output_type": "stream",
     "text": [
      "Training 5 epoch: 100%|██████████| 284/284 [06:19<00:00,  1.23s/it]\n",
      "Evaluating 5 epoch: 100%|██████████| 51/51 [00:16<00:00,  3.18it/s]\n",
      "Training 6 epoch:   0%|          | 0/284 [00:00<?, ?it/s]"
     ]
    },
    {
     "name": "stdout",
     "output_type": "stream",
     "text": [
      "5: train loss 1.1640, val loss 1.1038\n"
     ]
    },
    {
     "name": "stderr",
     "output_type": "stream",
     "text": [
      "Training 6 epoch: 100%|██████████| 284/284 [06:20<00:00,  1.23s/it]\n",
      "Evaluating 6 epoch: 100%|██████████| 51/51 [00:15<00:00,  3.19it/s]\n",
      "Training 7 epoch:   0%|          | 0/284 [00:00<?, ?it/s]"
     ]
    },
    {
     "name": "stdout",
     "output_type": "stream",
     "text": [
      "6: train loss 1.1212, val loss 1.1278\n"
     ]
    },
    {
     "name": "stderr",
     "output_type": "stream",
     "text": [
      "Training 7 epoch: 100%|██████████| 284/284 [06:20<00:00,  1.23s/it]\n",
      "Evaluating 7 epoch: 100%|██████████| 51/51 [00:15<00:00,  3.20it/s]\n",
      "Training 8 epoch:   0%|          | 0/284 [00:00<?, ?it/s]"
     ]
    },
    {
     "name": "stdout",
     "output_type": "stream",
     "text": [
      "7: train loss 1.0786, val loss 1.1540\n"
     ]
    },
    {
     "name": "stderr",
     "output_type": "stream",
     "text": [
      "Training 8 epoch: 100%|██████████| 284/284 [06:20<00:00,  1.23s/it]\n",
      "Evaluating 8 epoch: 100%|██████████| 51/51 [00:15<00:00,  3.19it/s]\n",
      "Training 9 epoch:   0%|          | 0/284 [00:00<?, ?it/s]"
     ]
    },
    {
     "name": "stdout",
     "output_type": "stream",
     "text": [
      "8: train loss 1.0361, val loss 1.1887\n"
     ]
    },
    {
     "name": "stderr",
     "output_type": "stream",
     "text": [
      "Training 9 epoch: 100%|██████████| 284/284 [06:20<00:00,  1.23s/it]\n",
      "Evaluating 9 epoch: 100%|██████████| 51/51 [00:15<00:00,  3.19it/s]\n",
      "Training 10 epoch:   0%|          | 0/284 [00:00<?, ?it/s]"
     ]
    },
    {
     "name": "stdout",
     "output_type": "stream",
     "text": [
      "9: train loss 0.9935, val loss 1.2192\n"
     ]
    },
    {
     "name": "stderr",
     "output_type": "stream",
     "text": [
      "Training 10 epoch: 100%|██████████| 284/284 [06:20<00:00,  1.23s/it]\n",
      "Evaluating 10 epoch: 100%|██████████| 51/51 [00:15<00:00,  3.20it/s]"
     ]
    },
    {
     "name": "stdout",
     "output_type": "stream",
     "text": [
      "10: train loss 0.9510, val loss 1.2534\n"
     ]
    },
    {
     "name": "stderr",
     "output_type": "stream",
     "text": [
      "\n"
     ]
    }
   ],
   "source": [
    "best_loss = 1.1185\n",
    "no_improvement = 0\n",
    "early_stop_cntr = 0\n",
    "for epoch in range(10):\n",
    "    \n",
    "    train_loss = train(ssd_model, train_loader, criterion, optimizer, epoch=epoch+1, fp16=True)\n",
    "    val_loss = evaluate(ssd_model, val_loader, criterion, epoch=epoch+1)\n",
    "    \n",
    "    if val_loss < best_loss:\n",
    "        best_loss = val_loss\n",
    "        no_improvement = 0\n",
    "        early_stop_cntr = 0\n",
    "        torch.save({\n",
    "            'model_state_dict': ssd_model.state_dict(),\n",
    "            'optimizer_state_dict': optimizer.state_dict(),\n",
    "        }, '../models/fns_ssd_huge_data_2.ptr')\n",
    "    \n",
    "    history.update(train_loss, val_loss)\n",
    "    print('{}: train loss {:.4f}, val loss {:.4f}'.format(epoch+1, train_loss, val_loss))"
   ]
  },
  {
   "cell_type": "code",
   "execution_count": null,
   "metadata": {},
   "outputs": [],
   "source": []
  },
  {
   "cell_type": "code",
   "execution_count": 55,
   "metadata": {},
   "outputs": [],
   "source": [
    "ssd_model.load_state_dict(torch.load('../models/fns_ssd_huge_data_1.ptr')['model_state_dict'])\n",
    "optimizer.load_state_dict(torch.load('../models/fns_ssd_huge_data_1.ptr')['optimizer_state_dict'])"
   ]
  },
  {
   "cell_type": "code",
   "execution_count": 56,
   "metadata": {},
   "outputs": [],
   "source": [
    "base_lr = 1e-5\n",
    "\n",
    "def lr_update(n, base_lr):\n",
    "    # epochs are counted from 0\n",
    "    return base_lr * 1 ** n\n",
    "\n",
    "for i, group in enumerate(optimizer.param_groups[::-1]):\n",
    "    cur_lr = lr_update(i, base_lr)\n",
    "    group['lr'] = cur_lr"
   ]
  },
  {
   "cell_type": "code",
   "execution_count": 48,
   "metadata": {
    "scrolled": true
   },
   "outputs": [
    {
     "name": "stderr",
     "output_type": "stream",
     "text": [
      "Training 1 epoch: 100%|██████████| 32/32 [00:44<00:00,  1.17s/it]\n",
      "Evaluating 1 epoch: 100%|██████████| 6/6 [00:02<00:00,  2.75it/s]\n",
      "Training 2 epoch:   0%|          | 0/32 [00:00<?, ?it/s]"
     ]
    },
    {
     "name": "stdout",
     "output_type": "stream",
     "text": [
      "1: train loss 1.7306, val loss 1.9621\n"
     ]
    },
    {
     "name": "stderr",
     "output_type": "stream",
     "text": [
      "Training 2 epoch: 100%|██████████| 32/32 [00:44<00:00,  1.18s/it]\n",
      "Evaluating 2 epoch: 100%|██████████| 6/6 [00:02<00:00,  2.77it/s]\n",
      "Training 3 epoch:   0%|          | 0/32 [00:00<?, ?it/s]"
     ]
    },
    {
     "name": "stdout",
     "output_type": "stream",
     "text": [
      "2: train loss 1.7256, val loss 1.9589\n"
     ]
    },
    {
     "name": "stderr",
     "output_type": "stream",
     "text": [
      "Training 3 epoch: 100%|██████████| 32/32 [00:44<00:00,  1.18s/it]\n",
      "Evaluating 3 epoch: 100%|██████████| 6/6 [00:02<00:00,  2.78it/s]\n",
      "Training 4 epoch:   0%|          | 0/32 [00:00<?, ?it/s]"
     ]
    },
    {
     "name": "stdout",
     "output_type": "stream",
     "text": [
      "3: train loss 1.7161, val loss 1.9591\n"
     ]
    },
    {
     "name": "stderr",
     "output_type": "stream",
     "text": [
      "Training 4 epoch: 100%|██████████| 32/32 [00:45<00:00,  1.18s/it]\n",
      "Evaluating 4 epoch: 100%|██████████| 6/6 [00:02<00:00,  2.78it/s]\n",
      "Training 5 epoch:   0%|          | 0/32 [00:00<?, ?it/s]"
     ]
    },
    {
     "name": "stdout",
     "output_type": "stream",
     "text": [
      "4: train loss 1.7063, val loss 1.9589\n"
     ]
    },
    {
     "name": "stderr",
     "output_type": "stream",
     "text": [
      "Training 5 epoch: 100%|██████████| 32/32 [00:44<00:00,  1.18s/it]\n",
      "Evaluating 5 epoch: 100%|██████████| 6/6 [00:02<00:00,  2.77it/s]\n",
      "Training 6 epoch:   0%|          | 0/32 [00:00<?, ?it/s]"
     ]
    },
    {
     "name": "stdout",
     "output_type": "stream",
     "text": [
      "5: train loss 1.6972, val loss 1.9589\n"
     ]
    },
    {
     "name": "stderr",
     "output_type": "stream",
     "text": [
      "Training 6 epoch: 100%|██████████| 32/32 [00:44<00:00,  1.18s/it]\n",
      "Evaluating 6 epoch: 100%|██████████| 6/6 [00:02<00:00,  2.78it/s]\n",
      "Training 7 epoch:   0%|          | 0/32 [00:00<?, ?it/s]"
     ]
    },
    {
     "name": "stdout",
     "output_type": "stream",
     "text": [
      "6: train loss 1.6883, val loss 1.9590\n"
     ]
    },
    {
     "name": "stderr",
     "output_type": "stream",
     "text": [
      "Training 7 epoch: 100%|██████████| 32/32 [00:44<00:00,  1.18s/it]\n",
      "Evaluating 7 epoch: 100%|██████████| 6/6 [00:02<00:00,  2.82it/s]\n",
      "Training 8 epoch:   0%|          | 0/32 [00:00<?, ?it/s]"
     ]
    },
    {
     "name": "stdout",
     "output_type": "stream",
     "text": [
      "7: train loss 1.6794, val loss 1.9590\n"
     ]
    },
    {
     "name": "stderr",
     "output_type": "stream",
     "text": [
      "Training 8 epoch: 100%|██████████| 32/32 [00:44<00:00,  1.18s/it]\n",
      "Evaluating 8 epoch: 100%|██████████| 6/6 [00:02<00:00,  2.78it/s]\n",
      "Training 9 epoch:   0%|          | 0/32 [00:00<?, ?it/s]"
     ]
    },
    {
     "name": "stdout",
     "output_type": "stream",
     "text": [
      "8: train loss 1.6705, val loss 1.9592\n"
     ]
    },
    {
     "name": "stderr",
     "output_type": "stream",
     "text": [
      "Training 9 epoch: 100%|██████████| 32/32 [00:45<00:00,  1.18s/it]\n",
      "Evaluating 9 epoch: 100%|██████████| 6/6 [00:02<00:00,  2.81it/s]\n",
      "Training 10 epoch:   0%|          | 0/32 [00:00<?, ?it/s]"
     ]
    },
    {
     "name": "stdout",
     "output_type": "stream",
     "text": [
      "9: train loss 1.6617, val loss 1.9594\n"
     ]
    },
    {
     "name": "stderr",
     "output_type": "stream",
     "text": [
      "Training 10 epoch:   6%|▋         | 2/32 [00:03<01:00,  2.01s/it]Process Process-306:\n",
      "Process Process-311:\n",
      "Process Process-305:\n",
      "Traceback (most recent call last):\n",
      "Traceback (most recent call last):\n",
      "  File \"/usr/lib/python3.6/multiprocessing/process.py\", line 261, in _bootstrap\n",
      "    util._exit_function()\n",
      "  File \"/usr/lib/python3.6/multiprocessing/process.py\", line 261, in _bootstrap\n",
      "    util._exit_function()\n",
      "Traceback (most recent call last):\n",
      "  File \"/usr/lib/python3.6/multiprocessing/util.py\", line 322, in _exit_function\n",
      "    _run_finalizers()\n",
      "  File \"/usr/lib/python3.6/multiprocessing/util.py\", line 322, in _exit_function\n",
      "    _run_finalizers()\n",
      "  File \"/usr/lib/python3.6/multiprocessing/util.py\", line 262, in _run_finalizers\n",
      "    finalizer()\n",
      "  File \"/usr/lib/python3.6/multiprocessing/process.py\", line 261, in _bootstrap\n",
      "    util._exit_function()\n",
      "  File \"/usr/lib/python3.6/multiprocessing/util.py\", line 262, in _run_finalizers\n",
      "    finalizer()\n",
      "  File \"/usr/lib/python3.6/multiprocessing/util.py\", line 186, in __call__\n",
      "    res = self._callback(*self._args, **self._kwargs)\n",
      "  File \"/usr/lib/python3.6/multiprocessing/util.py\", line 322, in _exit_function\n",
      "    _run_finalizers()\n",
      "  File \"/usr/lib/python3.6/multiprocessing/queues.py\", line 191, in _finalize_join\n",
      "    thread.join()\n",
      "  File \"/usr/lib/python3.6/multiprocessing/util.py\", line 186, in __call__\n",
      "    res = self._callback(*self._args, **self._kwargs)\n",
      "  File \"/usr/lib/python3.6/multiprocessing/util.py\", line 262, in _run_finalizers\n",
      "    finalizer()\n",
      "  File \"/usr/lib/python3.6/threading.py\", line 1056, in join\n",
      "    self._wait_for_tstate_lock()\n",
      "  File \"/usr/lib/python3.6/multiprocessing/queues.py\", line 191, in _finalize_join\n",
      "    thread.join()\n",
      "  File \"/usr/lib/python3.6/multiprocessing/util.py\", line 186, in __call__\n",
      "    res = self._callback(*self._args, **self._kwargs)\n",
      "  File \"/usr/lib/python3.6/threading.py\", line 1072, in _wait_for_tstate_lock\n",
      "    elif lock.acquire(block, timeout):\n",
      "  File \"/usr/lib/python3.6/threading.py\", line 1056, in join\n",
      "    self._wait_for_tstate_lock()\n",
      "  File \"/usr/lib/python3.6/multiprocessing/queues.py\", line 191, in _finalize_join\n",
      "    thread.join()\n",
      "KeyboardInterrupt\n",
      "  File \"/usr/lib/python3.6/threading.py\", line 1056, in join\n",
      "    self._wait_for_tstate_lock()\n",
      "  File \"/usr/lib/python3.6/threading.py\", line 1072, in _wait_for_tstate_lock\n",
      "    elif lock.acquire(block, timeout):\n",
      "KeyboardInterrupt\n",
      "  File \"/usr/lib/python3.6/threading.py\", line 1072, in _wait_for_tstate_lock\n",
      "    elif lock.acquire(block, timeout):\n",
      "KeyboardInterrupt\n",
      "Exception ignored in: <bound method _MultiProcessingDataLoaderIter.__del__ of <torch.utils.data.dataloader._MultiProcessingDataLoaderIter object at 0x7f5a69546978>>\n",
      "Traceback (most recent call last):\n",
      "  File \"/home/egor/venvs/captcha_recognition/lib/python3.6/site-packages/torch/utils/data/dataloader.py\", line 926, in __del__\n",
      "    self._shutdown_workers()\n",
      "  File \"/home/egor/venvs/captcha_recognition/lib/python3.6/site-packages/torch/utils/data/dataloader.py\", line 906, in _shutdown_workers\n",
      "    w.join()\n",
      "  File \"/usr/lib/python3.6/multiprocessing/process.py\", line 124, in join\n",
      "    res = self._popen.wait(timeout)\n",
      "  File \"/usr/lib/python3.6/multiprocessing/popen_fork.py\", line 50, in wait\n",
      "    return self.poll(os.WNOHANG if timeout == 0.0 else 0)\n",
      "  File \"/usr/lib/python3.6/multiprocessing/popen_fork.py\", line 28, in poll\n",
      "    pid, sts = os.waitpid(self.pid, flag)\n",
      "KeyboardInterrupt: \n",
      "\n"
     ]
    },
    {
     "ename": "KeyboardInterrupt",
     "evalue": "",
     "output_type": "error",
     "traceback": [
      "\u001b[0;31m---------------------------------------------------------------------------\u001b[0m",
      "\u001b[0;31mKeyboardInterrupt\u001b[0m                         Traceback (most recent call last)",
      "\u001b[0;32m<ipython-input-48-242d262b3576>\u001b[0m in \u001b[0;36m<module>\u001b[0;34m\u001b[0m\n\u001b[1;32m      4\u001b[0m \u001b[0;32mfor\u001b[0m \u001b[0mepoch\u001b[0m \u001b[0;32min\u001b[0m \u001b[0mrange\u001b[0m\u001b[0;34m(\u001b[0m\u001b[0;36m10\u001b[0m\u001b[0;34m)\u001b[0m\u001b[0;34m:\u001b[0m\u001b[0;34m\u001b[0m\u001b[0;34m\u001b[0m\u001b[0m\n\u001b[1;32m      5\u001b[0m \u001b[0;34m\u001b[0m\u001b[0m\n\u001b[0;32m----> 6\u001b[0;31m     \u001b[0mtrain_loss\u001b[0m \u001b[0;34m=\u001b[0m \u001b[0mtrain\u001b[0m\u001b[0;34m(\u001b[0m\u001b[0mssd_model\u001b[0m\u001b[0;34m,\u001b[0m \u001b[0mtrain_loader\u001b[0m\u001b[0;34m,\u001b[0m \u001b[0mcriterion\u001b[0m\u001b[0;34m,\u001b[0m \u001b[0moptimizer\u001b[0m\u001b[0;34m,\u001b[0m \u001b[0mepoch\u001b[0m\u001b[0;34m=\u001b[0m\u001b[0mepoch\u001b[0m\u001b[0;34m+\u001b[0m\u001b[0;36m1\u001b[0m\u001b[0;34m,\u001b[0m \u001b[0mfp16\u001b[0m\u001b[0;34m=\u001b[0m\u001b[0;32mTrue\u001b[0m\u001b[0;34m)\u001b[0m\u001b[0;34m\u001b[0m\u001b[0;34m\u001b[0m\u001b[0m\n\u001b[0m\u001b[1;32m      7\u001b[0m     \u001b[0mval_loss\u001b[0m \u001b[0;34m=\u001b[0m \u001b[0mevaluate\u001b[0m\u001b[0;34m(\u001b[0m\u001b[0mssd_model\u001b[0m\u001b[0;34m,\u001b[0m \u001b[0mval_loader\u001b[0m\u001b[0;34m,\u001b[0m \u001b[0mcriterion\u001b[0m\u001b[0;34m,\u001b[0m \u001b[0mepoch\u001b[0m\u001b[0;34m=\u001b[0m\u001b[0mepoch\u001b[0m\u001b[0;34m+\u001b[0m\u001b[0;36m1\u001b[0m\u001b[0;34m)\u001b[0m\u001b[0;34m\u001b[0m\u001b[0;34m\u001b[0m\u001b[0m\n\u001b[1;32m      8\u001b[0m \u001b[0;34m\u001b[0m\u001b[0m\n",
      "\u001b[0;32m<ipython-input-36-058bb2b2b9c7>\u001b[0m in \u001b[0;36mtrain\u001b[0;34m(model, loader, criterion, optimizer, epoch, lr_scheduler, fp16)\u001b[0m\n\u001b[1;32m     14\u001b[0m         \u001b[0mpred_boxes\u001b[0m\u001b[0;34m,\u001b[0m \u001b[0mpred_scores\u001b[0m \u001b[0;34m=\u001b[0m \u001b[0mmodel\u001b[0m\u001b[0;34m(\u001b[0m\u001b[0mimgs\u001b[0m\u001b[0;34m)\u001b[0m\u001b[0;34m\u001b[0m\u001b[0;34m\u001b[0m\u001b[0m\n\u001b[1;32m     15\u001b[0m \u001b[0;34m\u001b[0m\u001b[0m\n\u001b[0;32m---> 16\u001b[0;31m         \u001b[0mloss\u001b[0m \u001b[0;34m=\u001b[0m \u001b[0mcriterion\u001b[0m\u001b[0;34m(\u001b[0m\u001b[0mpred_boxes\u001b[0m\u001b[0;34m,\u001b[0m \u001b[0mpred_scores\u001b[0m\u001b[0;34m,\u001b[0m \u001b[0mboxes\u001b[0m\u001b[0;34m,\u001b[0m \u001b[0mlabels\u001b[0m\u001b[0;34m)\u001b[0m\u001b[0;34m\u001b[0m\u001b[0;34m\u001b[0m\u001b[0m\n\u001b[0m\u001b[1;32m     17\u001b[0m \u001b[0;34m\u001b[0m\u001b[0m\n\u001b[1;32m     18\u001b[0m         \u001b[0moptimizer\u001b[0m\u001b[0;34m.\u001b[0m\u001b[0mzero_grad\u001b[0m\u001b[0;34m(\u001b[0m\u001b[0;34m)\u001b[0m\u001b[0;34m\u001b[0m\u001b[0;34m\u001b[0m\u001b[0m\n",
      "\u001b[0;32m~/venvs/captcha_recognition/lib/python3.6/site-packages/torch/nn/modules/module.py\u001b[0m in \u001b[0;36m__call__\u001b[0;34m(self, *input, **kwargs)\u001b[0m\n\u001b[1;32m    545\u001b[0m             \u001b[0mresult\u001b[0m \u001b[0;34m=\u001b[0m \u001b[0mself\u001b[0m\u001b[0;34m.\u001b[0m\u001b[0m_slow_forward\u001b[0m\u001b[0;34m(\u001b[0m\u001b[0;34m*\u001b[0m\u001b[0minput\u001b[0m\u001b[0;34m,\u001b[0m \u001b[0;34m**\u001b[0m\u001b[0mkwargs\u001b[0m\u001b[0;34m)\u001b[0m\u001b[0;34m\u001b[0m\u001b[0;34m\u001b[0m\u001b[0m\n\u001b[1;32m    546\u001b[0m         \u001b[0;32melse\u001b[0m\u001b[0;34m:\u001b[0m\u001b[0;34m\u001b[0m\u001b[0;34m\u001b[0m\u001b[0m\n\u001b[0;32m--> 547\u001b[0;31m             \u001b[0mresult\u001b[0m \u001b[0;34m=\u001b[0m \u001b[0mself\u001b[0m\u001b[0;34m.\u001b[0m\u001b[0mforward\u001b[0m\u001b[0;34m(\u001b[0m\u001b[0;34m*\u001b[0m\u001b[0minput\u001b[0m\u001b[0;34m,\u001b[0m \u001b[0;34m**\u001b[0m\u001b[0mkwargs\u001b[0m\u001b[0;34m)\u001b[0m\u001b[0;34m\u001b[0m\u001b[0;34m\u001b[0m\u001b[0m\n\u001b[0m\u001b[1;32m    548\u001b[0m         \u001b[0;32mfor\u001b[0m \u001b[0mhook\u001b[0m \u001b[0;32min\u001b[0m \u001b[0mself\u001b[0m\u001b[0;34m.\u001b[0m\u001b[0m_forward_hooks\u001b[0m\u001b[0;34m.\u001b[0m\u001b[0mvalues\u001b[0m\u001b[0;34m(\u001b[0m\u001b[0;34m)\u001b[0m\u001b[0;34m:\u001b[0m\u001b[0;34m\u001b[0m\u001b[0;34m\u001b[0m\u001b[0m\n\u001b[1;32m    549\u001b[0m             \u001b[0mhook_result\u001b[0m \u001b[0;34m=\u001b[0m \u001b[0mhook\u001b[0m\u001b[0;34m(\u001b[0m\u001b[0mself\u001b[0m\u001b[0;34m,\u001b[0m \u001b[0minput\u001b[0m\u001b[0;34m,\u001b[0m \u001b[0mresult\u001b[0m\u001b[0;34m)\u001b[0m\u001b[0;34m\u001b[0m\u001b[0;34m\u001b[0m\u001b[0m\n",
      "\u001b[0;32m~/job/CAPTCHA_recognition/notebooks/model.py\u001b[0m in \u001b[0;36mforward\u001b[0;34m(self, predicted_locs, predicted_scores, boxes, labels)\u001b[0m\n\u001b[1;32m    566\u001b[0m         \u001b[0;32massert\u001b[0m \u001b[0mn_priors\u001b[0m \u001b[0;34m==\u001b[0m \u001b[0mpredicted_locs\u001b[0m\u001b[0;34m.\u001b[0m\u001b[0msize\u001b[0m\u001b[0;34m(\u001b[0m\u001b[0;36m1\u001b[0m\u001b[0;34m)\u001b[0m \u001b[0;34m==\u001b[0m \u001b[0mpredicted_scores\u001b[0m\u001b[0;34m.\u001b[0m\u001b[0msize\u001b[0m\u001b[0;34m(\u001b[0m\u001b[0;36m1\u001b[0m\u001b[0;34m)\u001b[0m\u001b[0;34m\u001b[0m\u001b[0;34m\u001b[0m\u001b[0m\n\u001b[1;32m    567\u001b[0m \u001b[0;34m\u001b[0m\u001b[0m\n\u001b[0;32m--> 568\u001b[0;31m         \u001b[0mtrue_locs\u001b[0m \u001b[0;34m=\u001b[0m \u001b[0mtorch\u001b[0m\u001b[0;34m.\u001b[0m\u001b[0mzeros\u001b[0m\u001b[0;34m(\u001b[0m\u001b[0;34m(\u001b[0m\u001b[0mbatch_size\u001b[0m\u001b[0;34m,\u001b[0m \u001b[0mn_priors\u001b[0m\u001b[0;34m,\u001b[0m \u001b[0;36m4\u001b[0m\u001b[0;34m)\u001b[0m\u001b[0;34m,\u001b[0m \u001b[0mdtype\u001b[0m\u001b[0;34m=\u001b[0m\u001b[0mtorch\u001b[0m\u001b[0;34m.\u001b[0m\u001b[0mfloat\u001b[0m\u001b[0;34m)\u001b[0m\u001b[0;34m.\u001b[0m\u001b[0mto\u001b[0m\u001b[0;34m(\u001b[0m\u001b[0mdevice\u001b[0m\u001b[0;34m)\u001b[0m  \u001b[0;31m# (N, 8732, 4)\u001b[0m\u001b[0;34m\u001b[0m\u001b[0;34m\u001b[0m\u001b[0m\n\u001b[0m\u001b[1;32m    569\u001b[0m         \u001b[0mtrue_classes\u001b[0m \u001b[0;34m=\u001b[0m \u001b[0mtorch\u001b[0m\u001b[0;34m.\u001b[0m\u001b[0mzeros\u001b[0m\u001b[0;34m(\u001b[0m\u001b[0;34m(\u001b[0m\u001b[0mbatch_size\u001b[0m\u001b[0;34m,\u001b[0m \u001b[0mn_priors\u001b[0m\u001b[0;34m)\u001b[0m\u001b[0;34m,\u001b[0m \u001b[0mdtype\u001b[0m\u001b[0;34m=\u001b[0m\u001b[0mtorch\u001b[0m\u001b[0;34m.\u001b[0m\u001b[0mlong\u001b[0m\u001b[0;34m)\u001b[0m\u001b[0;34m.\u001b[0m\u001b[0mto\u001b[0m\u001b[0;34m(\u001b[0m\u001b[0mdevice\u001b[0m\u001b[0;34m)\u001b[0m  \u001b[0;31m# (N, 8732)\u001b[0m\u001b[0;34m\u001b[0m\u001b[0;34m\u001b[0m\u001b[0m\n\u001b[1;32m    570\u001b[0m \u001b[0;34m\u001b[0m\u001b[0m\n",
      "\u001b[0;31mKeyboardInterrupt\u001b[0m: "
     ]
    }
   ],
   "source": [
    "best_loss = 1.9409\n",
    "no_improvement = 0\n",
    "early_stop_cntr = 0\n",
    "for epoch in range(10):\n",
    "    \n",
    "    train_loss = train(ssd_model, train_loader, criterion, optimizer, epoch=epoch+1, fp16=True)\n",
    "    val_loss = evaluate(ssd_model, val_loader, criterion, epoch=epoch+1)\n",
    "    \n",
    "    if val_loss < best_loss:\n",
    "        best_loss = val_loss\n",
    "        no_improvement = 0\n",
    "        early_stop_cntr = 0\n",
    "        torch.save({\n",
    "            'model_state_dict': ssd_model.state_dict(),\n",
    "            'optimizer_state_dict': optimizer.state_dict(),\n",
    "        }, '../models/fns_ssd_0_3.ptr')\n",
    "    \n",
    "    history.update(train_loss, val_loss)\n",
    "    print('{}: train loss {:.4f}, val loss {:.4f}'.format(epoch+1, train_loss, val_loss))"
   ]
  },
  {
   "cell_type": "code",
   "execution_count": null,
   "metadata": {},
   "outputs": [],
   "source": []
  },
  {
   "cell_type": "code",
   "execution_count": 166,
   "metadata": {},
   "outputs": [
    {
     "name": "stdout",
     "output_type": "stream",
     "text": [
      "\n",
      "Loaded base model.\n",
      "\n"
     ]
    }
   ],
   "source": [
    "ssd_model = SSD300(len(vocab) + 1)\n",
    "ssd_model.cuda();"
   ]
  },
  {
   "cell_type": "code",
   "execution_count": 204,
   "metadata": {},
   "outputs": [],
   "source": [
    "ssd_model.load_state_dict(torch.load('../models/fns_ssd_huge_data_2.ptr')['model_state_dict'])\n",
    "ssd_model.eval();"
   ]
  },
  {
   "cell_type": "code",
   "execution_count": 205,
   "metadata": {},
   "outputs": [],
   "source": [
    "from utils import *\n",
    "from PIL import Image, ImageDraw, ImageFont\n",
    "import torchvision.transforms as T\n",
    "\n",
    "resize = T.Resize((300, 300))\n",
    "to_tensor = T.ToTensor()\n",
    "\n",
    "def detect(model, original_image, indx2lbl, min_score, max_overlap, top_k, suppress=None):\n",
    "    \"\"\"\n",
    "    Detect objects in an image with a trained SSD300, and visualize the results.\n",
    "\n",
    "    :param original_image: image, a PIL Image\n",
    "    :param min_score: minimum threshold for a detected box to be considered a match for a certain class\n",
    "    :param max_overlap: maximum overlap two boxes can have so that the one with the lower score is not suppressed via Non-Maximum Suppression (NMS)\n",
    "    :param top_k: if there are a lot of resulting detection across all classes, keep only the top 'k'\n",
    "    :param suppress: classes that you know for sure cannot be in the image or you do not want in the image, a list\n",
    "    :return: annotated image, a PIL Image\n",
    "    \"\"\"\n",
    "\n",
    "    image = to_tensor(resize(original_image)).cuda()\n",
    "    image = image[:3, :, :]\n",
    "\n",
    "    predicted_locs, predicted_scores = model(image.unsqueeze(0))\n",
    "\n",
    "    det_boxes, det_labels, det_scores = model.detect_objects(predicted_locs, predicted_scores, min_score=min_score,\n",
    "                                                             max_overlap=max_overlap, top_k=top_k)\n",
    "    \n",
    "    det_boxes = det_boxes[0].detach().cpu().numpy()\n",
    "\n",
    "    # Transform to original image dimensions\n",
    "    original_dims = np.array([original_image.width, original_image.height, original_image.width, original_image.height])\n",
    "    det_boxes = det_boxes * original_dims\n",
    "    \n",
    "    det_labels = [indx2lbl[l] for l in det_labels[0].detach().cpu().tolist() if l != 0.]\n",
    "\n",
    "    # If no objects found, the detected labels will be set to ['0.'], i.e. ['background'] in SSD300.detect_objects() in model.py\n",
    "    if det_labels == ['background']:\n",
    "        # Just return original image\n",
    "        return original_image\n",
    "\n",
    "    return original_image, det_boxes, det_labels"
   ]
  },
  {
   "cell_type": "code",
   "execution_count": 206,
   "metadata": {},
   "outputs": [],
   "source": [
    "from time import time\n",
    "times = []"
   ]
  },
  {
   "cell_type": "code",
   "execution_count": 199,
   "metadata": {
    "collapsed": true
   },
   "outputs": [
    {
     "ename": "IndexError",
     "evalue": "index 24 is out of bounds for axis 0 with size 24",
     "output_type": "error",
     "traceback": [
      "\u001b[0;31m---------------------------------------------------------------------------\u001b[0m",
      "\u001b[0;31mIndexError\u001b[0m                                Traceback (most recent call last)",
      "\u001b[0;32m<ipython-input-199-e606c8ae3c48>\u001b[0m in \u001b[0;36m<module>\u001b[0;34m\u001b[0m\n\u001b[1;32m     21\u001b[0m     \u001b[0mrow\u001b[0m\u001b[0;34m,\u001b[0m \u001b[0mcol\u001b[0m \u001b[0;34m=\u001b[0m \u001b[0mcntr\u001b[0m \u001b[0;34m//\u001b[0m \u001b[0;36m3\u001b[0m\u001b[0;34m,\u001b[0m \u001b[0mcntr\u001b[0m \u001b[0;34m%\u001b[0m \u001b[0;36m3\u001b[0m\u001b[0;34m\u001b[0m\u001b[0;34m\u001b[0m\u001b[0m\n\u001b[1;32m     22\u001b[0m     \u001b[0;31m# Display the image\u001b[0m\u001b[0;34m\u001b[0m\u001b[0;34m\u001b[0m\u001b[0;34m\u001b[0m\u001b[0m\n\u001b[0;32m---> 23\u001b[0;31m     \u001b[0max\u001b[0m\u001b[0;34m[\u001b[0m\u001b[0mrow\u001b[0m\u001b[0;34m,\u001b[0m \u001b[0mcol\u001b[0m\u001b[0;34m]\u001b[0m\u001b[0;34m.\u001b[0m\u001b[0mimshow\u001b[0m\u001b[0;34m(\u001b[0m\u001b[0mim\u001b[0m\u001b[0;34m)\u001b[0m\u001b[0;34m\u001b[0m\u001b[0;34m\u001b[0m\u001b[0m\n\u001b[0m\u001b[1;32m     24\u001b[0m \u001b[0;34m\u001b[0m\u001b[0m\n\u001b[1;32m     25\u001b[0m     \u001b[0;31m# Create a Rectangle patch\u001b[0m\u001b[0;34m\u001b[0m\u001b[0;34m\u001b[0m\u001b[0;34m\u001b[0m\u001b[0m\n",
      "\u001b[0;31mIndexError\u001b[0m: index 24 is out of bounds for axis 0 with size 24"
     ]
    },
    {
     "data": {
      "image/png": "[encoded data removed]",
      "text/plain": [
       "<Figure size 1440x5040 with 72 Axes>"
      ]
     },
     "metadata": {
      "needs_background": "light"
     },
     "output_type": "display_data"
    }
   ],
   "source": [
    "import matplotlib.patches as patches\n",
    "from os.path import join\n",
    "\n",
    "cntr = 0\n",
    "threshold = 0.5\n",
    "\n",
    "# Create figure and axes\n",
    "fig,ax = plt.subplots(24, 3, figsize=(20, 70))\n",
    "\n",
    "path = str(data_path/'test')\n",
    "for name in sorted(listdir(path)):\n",
    "    if 'png' not in name:\n",
    "        continue\n",
    "    full_name = join(path, name)\n",
    "    t0 = time()\n",
    "    im = Image.open(full_name)\n",
    "    img, pred_boxes, det_labels = detect(ssd_model, im, vocab.int2tok, \n",
    "                                         min_score=threshold, max_overlap=0.5, top_k=200)\n",
    "    times.append(time() - t0)\n",
    "    \n",
    "    row, col = cntr // 3, cntr % 3\n",
    "    # Display the image\n",
    "    ax[row, col].imshow(im)\n",
    "\n",
    "    # Create a Rectangle patch\n",
    "    for (x0, y0, x1, y1), label in zip(pred_boxes, det_labels):\n",
    "        w, h = x1 - x0, y1 - y0\n",
    "        rect = patches.Rectangle((x0,y0),w,h,linewidth=1, edgecolor='r',facecolor='none')\n",
    "        ax[row, col].text(x0, y0, f'{label}', fontsize=14)\n",
    "        ax[row, col].add_patch(rect)\n",
    "        ax[row, col].set_title(name)\n",
    "    \n",
    "    ax[row, col].axis('off')\n",
    "    cntr += 1\n",
    "plt.show()\n",
    "fig.savefig(str(base_path/'performance/ssd_1.jpg'))"
   ]
  },
  {
   "cell_type": "markdown",
   "metadata": {},
   "source": [
    "### Evaluation"
   ]
  },
  {
   "cell_type": "code",
   "execution_count": 183,
   "metadata": {},
   "outputs": [
    {
     "name": "stderr",
     "output_type": "stream",
     "text": [
      "100%|██████████| 493/493 [00:10<00:00, 46.23it/s]\n"
     ]
    }
   ],
   "source": [
    "from time import time\n",
    "from collections import defaultdict\n",
    "from tqdm import tqdm\n",
    "times = []\n",
    "\n",
    "res_d = defaultdict(lambda: [])\n",
    "\n",
    "for path in tqdm((data_path/'test').iterdir(), total=len(list((data_path/'test').iterdir()))):\n",
    "    name = path.name\n",
    "    \n",
    "    t0 = time()\n",
    "    \n",
    "    im = Image.open(path)\n",
    "    img, pred_boxes, det_labels = detect(ssd_model, im, vocab.int2tok, \n",
    "                                         min_score=0.5, max_overlap=0.5, top_k=200)\n",
    "    pred_boxes = pred_boxes[:6,:]\n",
    "    det_labels = det_labels[:6]\n",
    "\n",
    "    inds = np.argsort([i[0] for i in pred_boxes])\n",
    "    pred = np.array(det_labels)[inds]\n",
    "    pred = ''.join(pred)\n",
    "    \n",
    "    times.append(time() - t0)\n",
    "    \n",
    "    true = test_df[test_df['img_name'] == name]['label'].tolist()\n",
    "    true = ''.join(true)\n",
    "    \n",
    "    res_d['name'].append(name)\n",
    "    res_d['y_pred'].append(pred)\n",
    "    res_d['y_true'].append(true)\n",
    "    \n",
    "res_df = pd.DataFrame.from_dict(res_d)"
   ]
  },
  {
   "cell_type": "code",
   "execution_count": 184,
   "metadata": {},
   "outputs": [
    {
     "data": {
      "text/plain": [
       "(0.0207659888702764, 0.020721912384033203)"
      ]
     },
     "execution_count": 184,
     "metadata": {},
     "output_type": "execute_result"
    }
   ],
   "source": [
    "np.mean(times), np.median(times)"
   ]
  },
  {
   "cell_type": "code",
   "execution_count": 185,
   "metadata": {},
   "outputs": [],
   "source": [
    "right, wrong = (res_df['y_pred'] == res_df['y_true']).value_counts()"
   ]
  },
  {
   "cell_type": "code",
   "execution_count": 186,
   "metadata": {},
   "outputs": [],
   "source": [
    "precision = right / (right + wrong)"
   ]
  },
  {
   "cell_type": "code",
   "execution_count": 187,
   "metadata": {},
   "outputs": [
    {
     "data": {
      "text/plain": [
       "0.8600405679513184"
      ]
     },
     "execution_count": 187,
     "metadata": {},
     "output_type": "execute_result"
    }
   ],
   "source": [
    "precision"
   ]
  },
  {
   "cell_type": "code",
   "execution_count": null,
   "metadata": {},
   "outputs": [],
   "source": []
  }
 ],
 "metadata": {
  "kernelspec": {
   "display_name": "Python 3",
   "language": "python",
   "name": "python3"
  },
  "language_info": {
   "codemirror_mode": {
    "name": "ipython",
    "version": 3
   },
   "file_extension": ".py",
   "mimetype": "text/x-python",
   "name": "python",
   "nbconvert_exporter": "python",
   "pygments_lexer": "ipython3",
   "version": "3.6.8"
  }
 },
 "nbformat": 4,
 "nbformat_minor": 2
}
